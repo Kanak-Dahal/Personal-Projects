{
  "nbformat": 4,
  "nbformat_minor": 0,
  "metadata": {
    "colab": {
      "provenance": []
    },
    "kernelspec": {
      "name": "python3",
      "display_name": "Python 3"
    },
    "language_info": {
      "name": "python"
    }
  },
  "cells": [
    {
      "cell_type": "markdown",
      "source": [
        "# **1. INTRODUCTION**\n",
        "\n",
        "Stock price prediction has long been a significant area of interest in both academic research and financial practice. With the availability of historical stock data and the advancement in machine learning techniques, it has become feasible to forecast future price movements to a certain extent.\n",
        "\n",
        "This project focuses on predicting the stock price of **Tata Motors**, a major automobile company listed on the National Stock Exchange (NSE) of India. Stock price movements are inherently sequential and time-dependent, which makes them well-suited for time series forecasting models.\n",
        "\n",
        "Traditional statistical methods such as ARIMA and exponential smoothing have been widely used in the past. However, these models often fall short in capturing the complex, non-linear patterns inherent in financial time series data. This is where deep learning — particularly **Recurrent Neural Networks (RNNs)** and their enhanced version, **Long Short-Term Memory (LSTM)** networks — become powerful tools.\n",
        "\n",
        "The main objective of this project is to:\n",
        "- Use historical closing price data of Tata Motors to build a predictive model.\n",
        "- Train an LSTM model on sequences of past prices to forecast future values.\n",
        "- Evaluate the model performance using standard regression metrics and visual analysis.\n",
        "\n",
        "By doing so, we aim to understand how well deep learning models like LSTM can adapt to and learn from stock price behaviors.\n"
      ],
      "metadata": {
        "id": "W5IaZTVuur3b"
      }
    },
    {
      "cell_type": "markdown",
      "source": [
        "## **1.1 What is LSTM?**\n",
        "\n",
        "**Long Short-Term Memory (LSTM)** networks are a special kind of **Recurrent Neural Network (RNN)**, capable of learning long-term dependencies. They were introduced by Hochreiter and Schmidhuber in 1997 and have been widely used in applications involving sequences, such as natural language processing, speech recognition, and time series forecasting.\n",
        "\n",
        "Unlike traditional RNNs, LSTMs are able to **retain memory over long sequences** without suffering from the vanishing gradient problem. This makes them ideal for financial time series, where past patterns and trends can influence future prices.\n",
        "\n",
        "An LSTM unit consists of three main components:\n",
        "- **Forget gate**: decides which information should be discarded from the cell state.\n",
        "- **Input gate**: determines which values should be updated.\n",
        "- **Output gate**: controls the output based on the updated cell state.\n",
        "\n",
        "In this project, the LSTM model is trained on sequences of 60 past closing prices to predict the next day's closing price. This sliding window approach helps the model learn short- and medium-term trends from the data.\n",
        "\n",
        "# **1.2 Evaluation Metrics**\n",
        "\n",
        "- **Mean Absolute Error (MAE)**:  \n",
        "  The MAE represents the average magnitude of errors between predicted and actual stock prices, without considering their direction. A lower MAE indicates that the model’s predictions are, on average, close to the real values.\n",
        "\n",
        "- **Mean Squared Error (MSE)**:  \n",
        "  MSE penalizes larger errors more heavily by squaring them, making it sensitive to outliers. It gives a more aggressive indication of how far predictions are from actual values, especially when large deviations occur.\n",
        "\n",
        "- **Root Mean Squared Error (RMSE)**:  \n",
        "  RMSE is the square root of MSE and expresses the average prediction error in the same units as the original data (i.e., stock price). It is one of the most commonly used metrics for regression and is easier to interpret compared to MSE.\n",
        "\n",
        "- **R² Score (Coefficient of Determination)**:  \n",
        "  R² measures how well the model captures the variability in the data. It ranges from -∞ to 1:\n",
        "  - **1** → Perfect prediction\n",
        "  - **0** → Model predicts only the mean (no explanatory power)\n",
        "  - **< 0** → Model performs worse than just predicting the mean"
      ],
      "metadata": {
        "id": "-aO7XmYwuvnR"
      }
    },
    {
      "cell_type": "markdown",
      "source": [
        "# **2. ALGORITHM AND CODE**"
      ],
      "metadata": {
        "id": "lSw1GTScxaUP"
      }
    },
    {
      "cell_type": "markdown",
      "source": [
        "### 2.1. Importing Required Libraries\n",
        "We begin by importing essential libraries:\n",
        "- `pandas`, `numpy` for data manipulation\n",
        "- `matplotlib.pyplot` for plotting\n",
        "- `MinMaxScaler` from sklearn for feature scaling\n",
        "- TensorFlow/Keras for building and training the LSTM model\n"
      ],
      "metadata": {
        "id": "eKq7mpDqtR6s"
      }
    },
    {
      "cell_type": "code",
      "execution_count": 1,
      "metadata": {
        "id": "NAzjeTmPSouE"
      },
      "outputs": [],
      "source": [
        "import pandas as pd\n",
        "import numpy as np\n",
        "import matplotlib.pyplot as plt\n",
        "import seaborn as sns\n",
        "\n",
        "from keras.models import Sequential\n",
        "from keras.layers import Dense, LSTM, Dropout, Bidirectional\n",
        "from sklearn.preprocessing import MinMaxScaler\n",
        "from sklearn.metrics import mean_squared_error\n",
        "import yfinance as yf"
      ]
    },
    {
      "cell_type": "markdown",
      "source": [
        "### 2.2. Reading Tata Motors Stock Dataset\n",
        "We load the historical stock price data of Tata Motors. This dataset contains daily price information such as Open, High, Low, Close, and Volume.\n"
      ],
      "metadata": {
        "id": "U_B5rwTmtaEx"
      }
    },
    {
      "cell_type": "code",
      "source": [
        "tamo = yf.Ticker('TATAMOTORS.NS')"
      ],
      "metadata": {
        "id": "rJEusRChTgY-"
      },
      "execution_count": 3,
      "outputs": []
    },
    {
      "cell_type": "code",
      "source": [
        "df = tamo.history(period='max', interval='1d')"
      ],
      "metadata": {
        "id": "yxbBl0XxTmqQ"
      },
      "execution_count": 4,
      "outputs": []
    },
    {
      "cell_type": "code",
      "source": [
        "df.info()"
      ],
      "metadata": {
        "colab": {
          "base_uri": "https://localhost:8080/",
          "height": 0
        },
        "id": "640lAgvITwzB",
        "outputId": "a2c16f8f-05ff-4437-90e1-841535ee3a25"
      },
      "execution_count": 5,
      "outputs": [
        {
          "output_type": "stream",
          "name": "stdout",
          "text": [
            "<class 'pandas.core.frame.DataFrame'>\n",
            "DatetimeIndex: 8699 entries, 1991-01-02 00:00:00+05:30 to 2025-06-13 00:00:00+05:30\n",
            "Data columns (total 7 columns):\n",
            " #   Column        Non-Null Count  Dtype  \n",
            "---  ------        --------------  -----  \n",
            " 0   Open          8699 non-null   float64\n",
            " 1   High          8699 non-null   float64\n",
            " 2   Low           8699 non-null   float64\n",
            " 3   Close         8699 non-null   float64\n",
            " 4   Volume        8699 non-null   int64  \n",
            " 5   Dividends     8699 non-null   float64\n",
            " 6   Stock Splits  8699 non-null   float64\n",
            "dtypes: float64(6), int64(1)\n",
            "memory usage: 543.7 KB\n"
          ]
        }
      ]
    },
    {
      "cell_type": "code",
      "source": [
        "df.index = pd.to_datetime(df.index)\n",
        "df.index = df.index.tz_localize(None).normalize()\n",
        "df = df.reset_index()\n",
        "df.info()"
      ],
      "metadata": {
        "colab": {
          "base_uri": "https://localhost:8080/",
          "height": 0
        },
        "id": "einINLRYT5F_",
        "outputId": "e6d1d215-7027-4259-84f6-b4d19a6c5f8a"
      },
      "execution_count": 6,
      "outputs": [
        {
          "output_type": "stream",
          "name": "stdout",
          "text": [
            "<class 'pandas.core.frame.DataFrame'>\n",
            "RangeIndex: 8699 entries, 0 to 8698\n",
            "Data columns (total 8 columns):\n",
            " #   Column        Non-Null Count  Dtype         \n",
            "---  ------        --------------  -----         \n",
            " 0   Date          8699 non-null   datetime64[ns]\n",
            " 1   Open          8699 non-null   float64       \n",
            " 2   High          8699 non-null   float64       \n",
            " 3   Low           8699 non-null   float64       \n",
            " 4   Close         8699 non-null   float64       \n",
            " 5   Volume        8699 non-null   int64         \n",
            " 6   Dividends     8699 non-null   float64       \n",
            " 7   Stock Splits  8699 non-null   float64       \n",
            "dtypes: datetime64[ns](1), float64(6), int64(1)\n",
            "memory usage: 543.8 KB\n"
          ]
        }
      ]
    },
    {
      "cell_type": "code",
      "source": [
        "df"
      ],
      "metadata": {
        "colab": {
          "base_uri": "https://localhost:8080/",
          "height": 423
        },
        "id": "jIUwnAqdVjpn",
        "outputId": "699fc82f-e035-45ec-a0a0-6815a9d99992"
      },
      "execution_count": 7,
      "outputs": [
        {
          "output_type": "execute_result",
          "data": {
            "text/plain": [
              "           Date        Open        High         Low       Close    Volume  \\\n",
              "0    1991-01-02   14.917163   15.556470   14.917163   15.556470         0   \n",
              "1    1991-01-03   14.917163   15.556470   14.917163   15.556470         0   \n",
              "2    1991-01-04   15.556470   15.556470   15.556470   15.556470         0   \n",
              "3    1991-01-07   14.490958   15.130266   14.277857   15.023715         0   \n",
              "4    1991-01-08   15.023715   15.023715   15.023715   15.023715         0   \n",
              "...         ...         ...         ...         ...         ...       ...   \n",
              "8694 2025-06-09  715.000000  726.000000  713.099976  717.799988   9900412   \n",
              "8695 2025-06-10  721.000000  734.750000  715.349976  732.250000  19151889   \n",
              "8696 2025-06-11  734.950012  744.000000  730.150024  736.400024  12626754   \n",
              "8697 2025-06-12  737.000000  737.700012  711.250000  715.349976  12585149   \n",
              "8698 2025-06-13  700.000000  714.950012  698.299988  712.049988  10514777   \n",
              "\n",
              "      Dividends  Stock Splits  \n",
              "0           0.0           0.0  \n",
              "1           0.0           0.0  \n",
              "2           0.0           0.0  \n",
              "3           0.0           0.0  \n",
              "4           0.0           0.0  \n",
              "...         ...           ...  \n",
              "8694        0.0           0.0  \n",
              "8695        0.0           0.0  \n",
              "8696        0.0           0.0  \n",
              "8697        0.0           0.0  \n",
              "8698        0.0           0.0  \n",
              "\n",
              "[8699 rows x 8 columns]"
            ],
            "text/html": [
              "\n",
              "  <div id=\"df-af0be551-dd0e-43df-a092-36f43445e094\" class=\"colab-df-container\">\n",
              "    <div>\n",
              "<style scoped>\n",
              "    .dataframe tbody tr th:only-of-type {\n",
              "        vertical-align: middle;\n",
              "    }\n",
              "\n",
              "    .dataframe tbody tr th {\n",
              "        vertical-align: top;\n",
              "    }\n",
              "\n",
              "    .dataframe thead th {\n",
              "        text-align: right;\n",
              "    }\n",
              "</style>\n",
              "<table border=\"1\" class=\"dataframe\">\n",
              "  <thead>\n",
              "    <tr style=\"text-align: right;\">\n",
              "      <th></th>\n",
              "      <th>Date</th>\n",
              "      <th>Open</th>\n",
              "      <th>High</th>\n",
              "      <th>Low</th>\n",
              "      <th>Close</th>\n",
              "      <th>Volume</th>\n",
              "      <th>Dividends</th>\n",
              "      <th>Stock Splits</th>\n",
              "    </tr>\n",
              "  </thead>\n",
              "  <tbody>\n",
              "    <tr>\n",
              "      <th>0</th>\n",
              "      <td>1991-01-02</td>\n",
              "      <td>14.917163</td>\n",
              "      <td>15.556470</td>\n",
              "      <td>14.917163</td>\n",
              "      <td>15.556470</td>\n",
              "      <td>0</td>\n",
              "      <td>0.0</td>\n",
              "      <td>0.0</td>\n",
              "    </tr>\n",
              "    <tr>\n",
              "      <th>1</th>\n",
              "      <td>1991-01-03</td>\n",
              "      <td>14.917163</td>\n",
              "      <td>15.556470</td>\n",
              "      <td>14.917163</td>\n",
              "      <td>15.556470</td>\n",
              "      <td>0</td>\n",
              "      <td>0.0</td>\n",
              "      <td>0.0</td>\n",
              "    </tr>\n",
              "    <tr>\n",
              "      <th>2</th>\n",
              "      <td>1991-01-04</td>\n",
              "      <td>15.556470</td>\n",
              "      <td>15.556470</td>\n",
              "      <td>15.556470</td>\n",
              "      <td>15.556470</td>\n",
              "      <td>0</td>\n",
              "      <td>0.0</td>\n",
              "      <td>0.0</td>\n",
              "    </tr>\n",
              "    <tr>\n",
              "      <th>3</th>\n",
              "      <td>1991-01-07</td>\n",
              "      <td>14.490958</td>\n",
              "      <td>15.130266</td>\n",
              "      <td>14.277857</td>\n",
              "      <td>15.023715</td>\n",
              "      <td>0</td>\n",
              "      <td>0.0</td>\n",
              "      <td>0.0</td>\n",
              "    </tr>\n",
              "    <tr>\n",
              "      <th>4</th>\n",
              "      <td>1991-01-08</td>\n",
              "      <td>15.023715</td>\n",
              "      <td>15.023715</td>\n",
              "      <td>15.023715</td>\n",
              "      <td>15.023715</td>\n",
              "      <td>0</td>\n",
              "      <td>0.0</td>\n",
              "      <td>0.0</td>\n",
              "    </tr>\n",
              "    <tr>\n",
              "      <th>...</th>\n",
              "      <td>...</td>\n",
              "      <td>...</td>\n",
              "      <td>...</td>\n",
              "      <td>...</td>\n",
              "      <td>...</td>\n",
              "      <td>...</td>\n",
              "      <td>...</td>\n",
              "      <td>...</td>\n",
              "    </tr>\n",
              "    <tr>\n",
              "      <th>8694</th>\n",
              "      <td>2025-06-09</td>\n",
              "      <td>715.000000</td>\n",
              "      <td>726.000000</td>\n",
              "      <td>713.099976</td>\n",
              "      <td>717.799988</td>\n",
              "      <td>9900412</td>\n",
              "      <td>0.0</td>\n",
              "      <td>0.0</td>\n",
              "    </tr>\n",
              "    <tr>\n",
              "      <th>8695</th>\n",
              "      <td>2025-06-10</td>\n",
              "      <td>721.000000</td>\n",
              "      <td>734.750000</td>\n",
              "      <td>715.349976</td>\n",
              "      <td>732.250000</td>\n",
              "      <td>19151889</td>\n",
              "      <td>0.0</td>\n",
              "      <td>0.0</td>\n",
              "    </tr>\n",
              "    <tr>\n",
              "      <th>8696</th>\n",
              "      <td>2025-06-11</td>\n",
              "      <td>734.950012</td>\n",
              "      <td>744.000000</td>\n",
              "      <td>730.150024</td>\n",
              "      <td>736.400024</td>\n",
              "      <td>12626754</td>\n",
              "      <td>0.0</td>\n",
              "      <td>0.0</td>\n",
              "    </tr>\n",
              "    <tr>\n",
              "      <th>8697</th>\n",
              "      <td>2025-06-12</td>\n",
              "      <td>737.000000</td>\n",
              "      <td>737.700012</td>\n",
              "      <td>711.250000</td>\n",
              "      <td>715.349976</td>\n",
              "      <td>12585149</td>\n",
              "      <td>0.0</td>\n",
              "      <td>0.0</td>\n",
              "    </tr>\n",
              "    <tr>\n",
              "      <th>8698</th>\n",
              "      <td>2025-06-13</td>\n",
              "      <td>700.000000</td>\n",
              "      <td>714.950012</td>\n",
              "      <td>698.299988</td>\n",
              "      <td>712.049988</td>\n",
              "      <td>10514777</td>\n",
              "      <td>0.0</td>\n",
              "      <td>0.0</td>\n",
              "    </tr>\n",
              "  </tbody>\n",
              "</table>\n",
              "<p>8699 rows × 8 columns</p>\n",
              "</div>\n",
              "    <div class=\"colab-df-buttons\">\n",
              "\n",
              "  <div class=\"colab-df-container\">\n",
              "    <button class=\"colab-df-convert\" onclick=\"convertToInteractive('df-af0be551-dd0e-43df-a092-36f43445e094')\"\n",
              "            title=\"Convert this dataframe to an interactive table.\"\n",
              "            style=\"display:none;\">\n",
              "\n",
              "  <svg xmlns=\"http://www.w3.org/2000/svg\" height=\"24px\" viewBox=\"0 -960 960 960\">\n",
              "    <path d=\"M120-120v-720h720v720H120Zm60-500h600v-160H180v160Zm220 220h160v-160H400v160Zm0 220h160v-160H400v160ZM180-400h160v-160H180v160Zm440 0h160v-160H620v160ZM180-180h160v-160H180v160Zm440 0h160v-160H620v160Z\"/>\n",
              "  </svg>\n",
              "    </button>\n",
              "\n",
              "  <style>\n",
              "    .colab-df-container {\n",
              "      display:flex;\n",
              "      gap: 12px;\n",
              "    }\n",
              "\n",
              "    .colab-df-convert {\n",
              "      background-color: #E8F0FE;\n",
              "      border: none;\n",
              "      border-radius: 50%;\n",
              "      cursor: pointer;\n",
              "      display: none;\n",
              "      fill: #1967D2;\n",
              "      height: 32px;\n",
              "      padding: 0 0 0 0;\n",
              "      width: 32px;\n",
              "    }\n",
              "\n",
              "    .colab-df-convert:hover {\n",
              "      background-color: #E2EBFA;\n",
              "      box-shadow: 0px 1px 2px rgba(60, 64, 67, 0.3), 0px 1px 3px 1px rgba(60, 64, 67, 0.15);\n",
              "      fill: #174EA6;\n",
              "    }\n",
              "\n",
              "    .colab-df-buttons div {\n",
              "      margin-bottom: 4px;\n",
              "    }\n",
              "\n",
              "    [theme=dark] .colab-df-convert {\n",
              "      background-color: #3B4455;\n",
              "      fill: #D2E3FC;\n",
              "    }\n",
              "\n",
              "    [theme=dark] .colab-df-convert:hover {\n",
              "      background-color: #434B5C;\n",
              "      box-shadow: 0px 1px 3px 1px rgba(0, 0, 0, 0.15);\n",
              "      filter: drop-shadow(0px 1px 2px rgba(0, 0, 0, 0.3));\n",
              "      fill: #FFFFFF;\n",
              "    }\n",
              "  </style>\n",
              "\n",
              "    <script>\n",
              "      const buttonEl =\n",
              "        document.querySelector('#df-af0be551-dd0e-43df-a092-36f43445e094 button.colab-df-convert');\n",
              "      buttonEl.style.display =\n",
              "        google.colab.kernel.accessAllowed ? 'block' : 'none';\n",
              "\n",
              "      async function convertToInteractive(key) {\n",
              "        const element = document.querySelector('#df-af0be551-dd0e-43df-a092-36f43445e094');\n",
              "        const dataTable =\n",
              "          await google.colab.kernel.invokeFunction('convertToInteractive',\n",
              "                                                    [key], {});\n",
              "        if (!dataTable) return;\n",
              "\n",
              "        const docLinkHtml = 'Like what you see? Visit the ' +\n",
              "          '<a target=\"_blank\" href=https://colab.research.google.com/notebooks/data_table.ipynb>data table notebook</a>'\n",
              "          + ' to learn more about interactive tables.';\n",
              "        element.innerHTML = '';\n",
              "        dataTable['output_type'] = 'display_data';\n",
              "        await google.colab.output.renderOutput(dataTable, element);\n",
              "        const docLink = document.createElement('div');\n",
              "        docLink.innerHTML = docLinkHtml;\n",
              "        element.appendChild(docLink);\n",
              "      }\n",
              "    </script>\n",
              "  </div>\n",
              "\n",
              "\n",
              "    <div id=\"df-0027616a-9804-4151-9981-2f74943380ac\">\n",
              "      <button class=\"colab-df-quickchart\" onclick=\"quickchart('df-0027616a-9804-4151-9981-2f74943380ac')\"\n",
              "                title=\"Suggest charts\"\n",
              "                style=\"display:none;\">\n",
              "\n",
              "<svg xmlns=\"http://www.w3.org/2000/svg\" height=\"24px\"viewBox=\"0 0 24 24\"\n",
              "     width=\"24px\">\n",
              "    <g>\n",
              "        <path d=\"M19 3H5c-1.1 0-2 .9-2 2v14c0 1.1.9 2 2 2h14c1.1 0 2-.9 2-2V5c0-1.1-.9-2-2-2zM9 17H7v-7h2v7zm4 0h-2V7h2v10zm4 0h-2v-4h2v4z\"/>\n",
              "    </g>\n",
              "</svg>\n",
              "      </button>\n",
              "\n",
              "<style>\n",
              "  .colab-df-quickchart {\n",
              "      --bg-color: #E8F0FE;\n",
              "      --fill-color: #1967D2;\n",
              "      --hover-bg-color: #E2EBFA;\n",
              "      --hover-fill-color: #174EA6;\n",
              "      --disabled-fill-color: #AAA;\n",
              "      --disabled-bg-color: #DDD;\n",
              "  }\n",
              "\n",
              "  [theme=dark] .colab-df-quickchart {\n",
              "      --bg-color: #3B4455;\n",
              "      --fill-color: #D2E3FC;\n",
              "      --hover-bg-color: #434B5C;\n",
              "      --hover-fill-color: #FFFFFF;\n",
              "      --disabled-bg-color: #3B4455;\n",
              "      --disabled-fill-color: #666;\n",
              "  }\n",
              "\n",
              "  .colab-df-quickchart {\n",
              "    background-color: var(--bg-color);\n",
              "    border: none;\n",
              "    border-radius: 50%;\n",
              "    cursor: pointer;\n",
              "    display: none;\n",
              "    fill: var(--fill-color);\n",
              "    height: 32px;\n",
              "    padding: 0;\n",
              "    width: 32px;\n",
              "  }\n",
              "\n",
              "  .colab-df-quickchart:hover {\n",
              "    background-color: var(--hover-bg-color);\n",
              "    box-shadow: 0 1px 2px rgba(60, 64, 67, 0.3), 0 1px 3px 1px rgba(60, 64, 67, 0.15);\n",
              "    fill: var(--button-hover-fill-color);\n",
              "  }\n",
              "\n",
              "  .colab-df-quickchart-complete:disabled,\n",
              "  .colab-df-quickchart-complete:disabled:hover {\n",
              "    background-color: var(--disabled-bg-color);\n",
              "    fill: var(--disabled-fill-color);\n",
              "    box-shadow: none;\n",
              "  }\n",
              "\n",
              "  .colab-df-spinner {\n",
              "    border: 2px solid var(--fill-color);\n",
              "    border-color: transparent;\n",
              "    border-bottom-color: var(--fill-color);\n",
              "    animation:\n",
              "      spin 1s steps(1) infinite;\n",
              "  }\n",
              "\n",
              "  @keyframes spin {\n",
              "    0% {\n",
              "      border-color: transparent;\n",
              "      border-bottom-color: var(--fill-color);\n",
              "      border-left-color: var(--fill-color);\n",
              "    }\n",
              "    20% {\n",
              "      border-color: transparent;\n",
              "      border-left-color: var(--fill-color);\n",
              "      border-top-color: var(--fill-color);\n",
              "    }\n",
              "    30% {\n",
              "      border-color: transparent;\n",
              "      border-left-color: var(--fill-color);\n",
              "      border-top-color: var(--fill-color);\n",
              "      border-right-color: var(--fill-color);\n",
              "    }\n",
              "    40% {\n",
              "      border-color: transparent;\n",
              "      border-right-color: var(--fill-color);\n",
              "      border-top-color: var(--fill-color);\n",
              "    }\n",
              "    60% {\n",
              "      border-color: transparent;\n",
              "      border-right-color: var(--fill-color);\n",
              "    }\n",
              "    80% {\n",
              "      border-color: transparent;\n",
              "      border-right-color: var(--fill-color);\n",
              "      border-bottom-color: var(--fill-color);\n",
              "    }\n",
              "    90% {\n",
              "      border-color: transparent;\n",
              "      border-bottom-color: var(--fill-color);\n",
              "    }\n",
              "  }\n",
              "</style>\n",
              "\n",
              "      <script>\n",
              "        async function quickchart(key) {\n",
              "          const quickchartButtonEl =\n",
              "            document.querySelector('#' + key + ' button');\n",
              "          quickchartButtonEl.disabled = true;  // To prevent multiple clicks.\n",
              "          quickchartButtonEl.classList.add('colab-df-spinner');\n",
              "          try {\n",
              "            const charts = await google.colab.kernel.invokeFunction(\n",
              "                'suggestCharts', [key], {});\n",
              "          } catch (error) {\n",
              "            console.error('Error during call to suggestCharts:', error);\n",
              "          }\n",
              "          quickchartButtonEl.classList.remove('colab-df-spinner');\n",
              "          quickchartButtonEl.classList.add('colab-df-quickchart-complete');\n",
              "        }\n",
              "        (() => {\n",
              "          let quickchartButtonEl =\n",
              "            document.querySelector('#df-0027616a-9804-4151-9981-2f74943380ac button');\n",
              "          quickchartButtonEl.style.display =\n",
              "            google.colab.kernel.accessAllowed ? 'block' : 'none';\n",
              "        })();\n",
              "      </script>\n",
              "    </div>\n",
              "\n",
              "  <div id=\"id_f133dd83-ee16-40d8-b345-1630e0e36d1a\">\n",
              "    <style>\n",
              "      .colab-df-generate {\n",
              "        background-color: #E8F0FE;\n",
              "        border: none;\n",
              "        border-radius: 50%;\n",
              "        cursor: pointer;\n",
              "        display: none;\n",
              "        fill: #1967D2;\n",
              "        height: 32px;\n",
              "        padding: 0 0 0 0;\n",
              "        width: 32px;\n",
              "      }\n",
              "\n",
              "      .colab-df-generate:hover {\n",
              "        background-color: #E2EBFA;\n",
              "        box-shadow: 0px 1px 2px rgba(60, 64, 67, 0.3), 0px 1px 3px 1px rgba(60, 64, 67, 0.15);\n",
              "        fill: #174EA6;\n",
              "      }\n",
              "\n",
              "      [theme=dark] .colab-df-generate {\n",
              "        background-color: #3B4455;\n",
              "        fill: #D2E3FC;\n",
              "      }\n",
              "\n",
              "      [theme=dark] .colab-df-generate:hover {\n",
              "        background-color: #434B5C;\n",
              "        box-shadow: 0px 1px 3px 1px rgba(0, 0, 0, 0.15);\n",
              "        filter: drop-shadow(0px 1px 2px rgba(0, 0, 0, 0.3));\n",
              "        fill: #FFFFFF;\n",
              "      }\n",
              "    </style>\n",
              "    <button class=\"colab-df-generate\" onclick=\"generateWithVariable('df')\"\n",
              "            title=\"Generate code using this dataframe.\"\n",
              "            style=\"display:none;\">\n",
              "\n",
              "  <svg xmlns=\"http://www.w3.org/2000/svg\" height=\"24px\"viewBox=\"0 0 24 24\"\n",
              "       width=\"24px\">\n",
              "    <path d=\"M7,19H8.4L18.45,9,17,7.55,7,17.6ZM5,21V16.75L18.45,3.32a2,2,0,0,1,2.83,0l1.4,1.43a1.91,1.91,0,0,1,.58,1.4,1.91,1.91,0,0,1-.58,1.4L9.25,21ZM18.45,9,17,7.55Zm-12,3A5.31,5.31,0,0,0,4.9,8.1,5.31,5.31,0,0,0,1,6.5,5.31,5.31,0,0,0,4.9,4.9,5.31,5.31,0,0,0,6.5,1,5.31,5.31,0,0,0,8.1,4.9,5.31,5.31,0,0,0,12,6.5,5.46,5.46,0,0,0,6.5,12Z\"/>\n",
              "  </svg>\n",
              "    </button>\n",
              "    <script>\n",
              "      (() => {\n",
              "      const buttonEl =\n",
              "        document.querySelector('#id_f133dd83-ee16-40d8-b345-1630e0e36d1a button.colab-df-generate');\n",
              "      buttonEl.style.display =\n",
              "        google.colab.kernel.accessAllowed ? 'block' : 'none';\n",
              "\n",
              "      buttonEl.onclick = () => {\n",
              "        google.colab.notebook.generateWithVariable('df');\n",
              "      }\n",
              "      })();\n",
              "    </script>\n",
              "  </div>\n",
              "\n",
              "    </div>\n",
              "  </div>\n"
            ],
            "application/vnd.google.colaboratory.intrinsic+json": {
              "type": "dataframe",
              "variable_name": "df",
              "summary": "{\n  \"name\": \"df\",\n  \"rows\": 8699,\n  \"fields\": [\n    {\n      \"column\": \"Date\",\n      \"properties\": {\n        \"dtype\": \"date\",\n        \"min\": \"1991-01-02 00:00:00\",\n        \"max\": \"2025-06-13 00:00:00\",\n        \"num_unique_values\": 8699,\n        \"samples\": [\n          \"2022-09-23 00:00:00\",\n          \"2006-01-10 00:00:00\",\n          \"2016-10-19 00:00:00\"\n        ],\n        \"semantic_type\": \"\",\n        \"description\": \"\"\n      }\n    },\n    {\n      \"column\": \"Open\",\n      \"properties\": {\n        \"dtype\": \"number\",\n        \"std\": 214.09395323061432,\n        \"min\": 8.844151998285133,\n        \"max\": 1157.051852254818,\n        \"num_unique_values\": 8332,\n        \"samples\": [\n          306.543700685388,\n          121.86916430656586,\n          70.74327185111972\n        ],\n        \"semantic_type\": \"\",\n        \"description\": \"\"\n      }\n    },\n    {\n      \"column\": \"High\",\n      \"properties\": {\n        \"dtype\": \"number\",\n        \"std\": 216.42594987097937,\n        \"min\": 9.255860713801583,\n        \"max\": 1168.9496300382175,\n        \"num_unique_values\": 8268,\n        \"samples\": [\n          46.90759766765786,\n          40.4894434050303,\n          173.27455258665665\n        ],\n        \"semantic_type\": \"\",\n        \"description\": \"\"\n      }\n    },\n    {\n      \"column\": \"Low\",\n      \"properties\": {\n        \"dtype\": \"number\",\n        \"std\": 211.13776499983175,\n        \"min\": 8.775532179610263,\n        \"max\": 1135.536938415211,\n        \"num_unique_values\": 8267,\n        \"samples\": [\n          596.6134784952012,\n          37.29291312212294,\n          108.02537407952086\n        ],\n        \"semantic_type\": \"\",\n        \"description\": \"\"\n      }\n    },\n    {\n      \"column\": \"Close\",\n      \"properties\": {\n        \"dtype\": \"number\",\n        \"std\": 213.62631077713738,\n        \"min\": 8.96613883972168,\n        \"max\": 1151.94580078125,\n        \"num_unique_values\": 7160,\n        \"samples\": [\n          23.802963256835938,\n          643.5142211914062,\n          47.24595260620117\n        ],\n        \"semantic_type\": \"\",\n        \"description\": \"\"\n      }\n    },\n    {\n      \"column\": \"Volume\",\n      \"properties\": {\n        \"dtype\": \"number\",\n        \"std\": 19198691,\n        \"min\": 0,\n        \"max\": 390577839,\n        \"num_unique_values\": 7374,\n        \"samples\": [\n          12916471,\n          12763478,\n          17350173\n        ],\n        \"semantic_type\": \"\",\n        \"description\": \"\"\n      }\n    },\n    {\n      \"column\": \"Dividends\",\n      \"properties\": {\n        \"dtype\": \"number\",\n        \"std\": 0.12427503199078448,\n        \"min\": 0.0,\n        \"max\": 6.0,\n        \"num_unique_values\": 19,\n        \"samples\": [\n          0.0,\n          1.053968,\n          1.187265\n        ],\n        \"semantic_type\": \"\",\n        \"description\": \"\"\n      }\n    },\n    {\n      \"column\": \"Stock Splits\",\n      \"properties\": {\n        \"dtype\": \"number\",\n        \"std\": 0.05628471185973141,\n        \"min\": 0.0,\n        \"max\": 5.0,\n        \"num_unique_values\": 3,\n        \"samples\": [\n          0.0,\n          1.6,\n          5.0\n        ],\n        \"semantic_type\": \"\",\n        \"description\": \"\"\n      }\n    }\n  ]\n}"
            }
          },
          "metadata": {},
          "execution_count": 7
        }
      ]
    },
    {
      "cell_type": "markdown",
      "source": [
        "### 2.3. Visualizing the Closing Price\n",
        "Plotting the historical closing prices of Tata Motors to get a sense of the trend and volatility in the stock.\n"
      ],
      "metadata": {
        "id": "hXU98gKXthpr"
      }
    },
    {
      "cell_type": "code",
      "source": [
        "plt.figure(figsize = (12,6))\n",
        "plt.plot(df['Close'], label='Closing prices')\n",
        "plt.show()"
      ],
      "metadata": {
        "colab": {
          "base_uri": "https://localhost:8080/",
          "height": 524
        },
        "id": "R_20HKYxT83x",
        "outputId": "c45f0c76-b76f-4621-dc7e-dcdf2bf6658f"
      },
      "execution_count": 8,
      "outputs": [
        {
          "output_type": "display_data",
          "data": {
            "text/plain": [
              "<Figure size 1200x600 with 1 Axes>"
            ],
            "image/png": "[encoded data removed]"
          },
          "metadata": {}
        }
      ]
    },
    {
      "cell_type": "markdown",
      "source": [
        "### 2.4. Preprocessing: Selecting the Close Column\n",
        "We extract only the `Close` column since our prediction target is the closing price of the stock.\n"
      ],
      "metadata": {
        "id": "W1o3LwiftonS"
      }
    },
    {
      "cell_type": "code",
      "source": [
        "new_df = df.drop(columns=['Volume', 'Dividends', 'Stock Splits', 'High', 'Low', 'Open'])"
      ],
      "metadata": {
        "id": "V_rgpo25VaqD"
      },
      "execution_count": 9,
      "outputs": []
    },
    {
      "cell_type": "code",
      "source": [
        "new_df"
      ],
      "metadata": {
        "colab": {
          "base_uri": "https://localhost:8080/",
          "height": 423
        },
        "id": "4EMTPL0KU79W",
        "outputId": "9a9d08b2-7ac1-4ce6-c4fb-d5d9840ba1e5"
      },
      "execution_count": 10,
      "outputs": [
        {
          "output_type": "execute_result",
          "data": {
            "text/plain": [
              "           Date       Close\n",
              "0    1991-01-02   15.556470\n",
              "1    1991-01-03   15.556470\n",
              "2    1991-01-04   15.556470\n",
              "3    1991-01-07   15.023715\n",
              "4    1991-01-08   15.023715\n",
              "...         ...         ...\n",
              "8694 2025-06-09  717.799988\n",
              "8695 2025-06-10  732.250000\n",
              "8696 2025-06-11  736.400024\n",
              "8697 2025-06-12  715.349976\n",
              "8698 2025-06-13  712.049988\n",
              "\n",
              "[8699 rows x 2 columns]"
            ],
            "text/html": [
              "\n",
              "  <div id=\"df-4ff9a4dc-6967-49f4-a008-113a1a1b9b98\" class=\"colab-df-container\">\n",
              "    <div>\n",
              "<style scoped>\n",
              "    .dataframe tbody tr th:only-of-type {\n",
              "        vertical-align: middle;\n",
              "    }\n",
              "\n",
              "    .dataframe tbody tr th {\n",
              "        vertical-align: top;\n",
              "    }\n",
              "\n",
              "    .dataframe thead th {\n",
              "        text-align: right;\n",
              "    }\n",
              "</style>\n",
              "<table border=\"1\" class=\"dataframe\">\n",
              "  <thead>\n",
              "    <tr style=\"text-align: right;\">\n",
              "      <th></th>\n",
              "      <th>Date</th>\n",
              "      <th>Close</th>\n",
              "    </tr>\n",
              "  </thead>\n",
              "  <tbody>\n",
              "    <tr>\n",
              "      <th>0</th>\n",
              "      <td>1991-01-02</td>\n",
              "      <td>15.556470</td>\n",
              "    </tr>\n",
              "    <tr>\n",
              "      <th>1</th>\n",
              "      <td>1991-01-03</td>\n",
              "      <td>15.556470</td>\n",
              "    </tr>\n",
              "    <tr>\n",
              "      <th>2</th>\n",
              "      <td>1991-01-04</td>\n",
              "      <td>15.556470</td>\n",
              "    </tr>\n",
              "    <tr>\n",
              "      <th>3</th>\n",
              "      <td>1991-01-07</td>\n",
              "      <td>15.023715</td>\n",
              "    </tr>\n",
              "    <tr>\n",
              "      <th>4</th>\n",
              "      <td>1991-01-08</td>\n",
              "      <td>15.023715</td>\n",
              "    </tr>\n",
              "    <tr>\n",
              "      <th>...</th>\n",
              "      <td>...</td>\n",
              "      <td>...</td>\n",
              "    </tr>\n",
              "    <tr>\n",
              "      <th>8694</th>\n",
              "      <td>2025-06-09</td>\n",
              "      <td>717.799988</td>\n",
              "    </tr>\n",
              "    <tr>\n",
              "      <th>8695</th>\n",
              "      <td>2025-06-10</td>\n",
              "      <td>732.250000</td>\n",
              "    </tr>\n",
              "    <tr>\n",
              "      <th>8696</th>\n",
              "      <td>2025-06-11</td>\n",
              "      <td>736.400024</td>\n",
              "    </tr>\n",
              "    <tr>\n",
              "      <th>8697</th>\n",
              "      <td>2025-06-12</td>\n",
              "      <td>715.349976</td>\n",
              "    </tr>\n",
              "    <tr>\n",
              "      <th>8698</th>\n",
              "      <td>2025-06-13</td>\n",
              "      <td>712.049988</td>\n",
              "    </tr>\n",
              "  </tbody>\n",
              "</table>\n",
              "<p>8699 rows × 2 columns</p>\n",
              "</div>\n",
              "    <div class=\"colab-df-buttons\">\n",
              "\n",
              "  <div class=\"colab-df-container\">\n",
              "    <button class=\"colab-df-convert\" onclick=\"convertToInteractive('df-4ff9a4dc-6967-49f4-a008-113a1a1b9b98')\"\n",
              "            title=\"Convert this dataframe to an interactive table.\"\n",
              "            style=\"display:none;\">\n",
              "\n",
              "  <svg xmlns=\"http://www.w3.org/2000/svg\" height=\"24px\" viewBox=\"0 -960 960 960\">\n",
              "    <path d=\"M120-120v-720h720v720H120Zm60-500h600v-160H180v160Zm220 220h160v-160H400v160Zm0 220h160v-160H400v160ZM180-400h160v-160H180v160Zm440 0h160v-160H620v160ZM180-180h160v-160H180v160Zm440 0h160v-160H620v160Z\"/>\n",
              "  </svg>\n",
              "    </button>\n",
              "\n",
              "  <style>\n",
              "    .colab-df-container {\n",
              "      display:flex;\n",
              "      gap: 12px;\n",
              "    }\n",
              "\n",
              "    .colab-df-convert {\n",
              "      background-color: #E8F0FE;\n",
              "      border: none;\n",
              "      border-radius: 50%;\n",
              "      cursor: pointer;\n",
              "      display: none;\n",
              "      fill: #1967D2;\n",
              "      height: 32px;\n",
              "      padding: 0 0 0 0;\n",
              "      width: 32px;\n",
              "    }\n",
              "\n",
              "    .colab-df-convert:hover {\n",
              "      background-color: #E2EBFA;\n",
              "      box-shadow: 0px 1px 2px rgba(60, 64, 67, 0.3), 0px 1px 3px 1px rgba(60, 64, 67, 0.15);\n",
              "      fill: #174EA6;\n",
              "    }\n",
              "\n",
              "    .colab-df-buttons div {\n",
              "      margin-bottom: 4px;\n",
              "    }\n",
              "\n",
              "    [theme=dark] .colab-df-convert {\n",
              "      background-color: #3B4455;\n",
              "      fill: #D2E3FC;\n",
              "    }\n",
              "\n",
              "    [theme=dark] .colab-df-convert:hover {\n",
              "      background-color: #434B5C;\n",
              "      box-shadow: 0px 1px 3px 1px rgba(0, 0, 0, 0.15);\n",
              "      filter: drop-shadow(0px 1px 2px rgba(0, 0, 0, 0.3));\n",
              "      fill: #FFFFFF;\n",
              "    }\n",
              "  </style>\n",
              "\n",
              "    <script>\n",
              "      const buttonEl =\n",
              "        document.querySelector('#df-4ff9a4dc-6967-49f4-a008-113a1a1b9b98 button.colab-df-convert');\n",
              "      buttonEl.style.display =\n",
              "        google.colab.kernel.accessAllowed ? 'block' : 'none';\n",
              "\n",
              "      async function convertToInteractive(key) {\n",
              "        const element = document.querySelector('#df-4ff9a4dc-6967-49f4-a008-113a1a1b9b98');\n",
              "        const dataTable =\n",
              "          await google.colab.kernel.invokeFunction('convertToInteractive',\n",
              "                                                    [key], {});\n",
              "        if (!dataTable) return;\n",
              "\n",
              "        const docLinkHtml = 'Like what you see? Visit the ' +\n",
              "          '<a target=\"_blank\" href=https://colab.research.google.com/notebooks/data_table.ipynb>data table notebook</a>'\n",
              "          + ' to learn more about interactive tables.';\n",
              "        element.innerHTML = '';\n",
              "        dataTable['output_type'] = 'display_data';\n",
              "        await google.colab.output.renderOutput(dataTable, element);\n",
              "        const docLink = document.createElement('div');\n",
              "        docLink.innerHTML = docLinkHtml;\n",
              "        element.appendChild(docLink);\n",
              "      }\n",
              "    </script>\n",
              "  </div>\n",
              "\n",
              "\n",
              "    <div id=\"df-00ea1e58-a745-403d-986b-4eeab1b8521a\">\n",
              "      <button class=\"colab-df-quickchart\" onclick=\"quickchart('df-00ea1e58-a745-403d-986b-4eeab1b8521a')\"\n",
              "                title=\"Suggest charts\"\n",
              "                style=\"display:none;\">\n",
              "\n",
              "<svg xmlns=\"http://www.w3.org/2000/svg\" height=\"24px\"viewBox=\"0 0 24 24\"\n",
              "     width=\"24px\">\n",
              "    <g>\n",
              "        <path d=\"M19 3H5c-1.1 0-2 .9-2 2v14c0 1.1.9 2 2 2h14c1.1 0 2-.9 2-2V5c0-1.1-.9-2-2-2zM9 17H7v-7h2v7zm4 0h-2V7h2v10zm4 0h-2v-4h2v4z\"/>\n",
              "    </g>\n",
              "</svg>\n",
              "      </button>\n",
              "\n",
              "<style>\n",
              "  .colab-df-quickchart {\n",
              "      --bg-color: #E8F0FE;\n",
              "      --fill-color: #1967D2;\n",
              "      --hover-bg-color: #E2EBFA;\n",
              "      --hover-fill-color: #174EA6;\n",
              "      --disabled-fill-color: #AAA;\n",
              "      --disabled-bg-color: #DDD;\n",
              "  }\n",
              "\n",
              "  [theme=dark] .colab-df-quickchart {\n",
              "      --bg-color: #3B4455;\n",
              "      --fill-color: #D2E3FC;\n",
              "      --hover-bg-color: #434B5C;\n",
              "      --hover-fill-color: #FFFFFF;\n",
              "      --disabled-bg-color: #3B4455;\n",
              "      --disabled-fill-color: #666;\n",
              "  }\n",
              "\n",
              "  .colab-df-quickchart {\n",
              "    background-color: var(--bg-color);\n",
              "    border: none;\n",
              "    border-radius: 50%;\n",
              "    cursor: pointer;\n",
              "    display: none;\n",
              "    fill: var(--fill-color);\n",
              "    height: 32px;\n",
              "    padding: 0;\n",
              "    width: 32px;\n",
              "  }\n",
              "\n",
              "  .colab-df-quickchart:hover {\n",
              "    background-color: var(--hover-bg-color);\n",
              "    box-shadow: 0 1px 2px rgba(60, 64, 67, 0.3), 0 1px 3px 1px rgba(60, 64, 67, 0.15);\n",
              "    fill: var(--button-hover-fill-color);\n",
              "  }\n",
              "\n",
              "  .colab-df-quickchart-complete:disabled,\n",
              "  .colab-df-quickchart-complete:disabled:hover {\n",
              "    background-color: var(--disabled-bg-color);\n",
              "    fill: var(--disabled-fill-color);\n",
              "    box-shadow: none;\n",
              "  }\n",
              "\n",
              "  .colab-df-spinner {\n",
              "    border: 2px solid var(--fill-color);\n",
              "    border-color: transparent;\n",
              "    border-bottom-color: var(--fill-color);\n",
              "    animation:\n",
              "      spin 1s steps(1) infinite;\n",
              "  }\n",
              "\n",
              "  @keyframes spin {\n",
              "    0% {\n",
              "      border-color: transparent;\n",
              "      border-bottom-color: var(--fill-color);\n",
              "      border-left-color: var(--fill-color);\n",
              "    }\n",
              "    20% {\n",
              "      border-color: transparent;\n",
              "      border-left-color: var(--fill-color);\n",
              "      border-top-color: var(--fill-color);\n",
              "    }\n",
              "    30% {\n",
              "      border-color: transparent;\n",
              "      border-left-color: var(--fill-color);\n",
              "      border-top-color: var(--fill-color);\n",
              "      border-right-color: var(--fill-color);\n",
              "    }\n",
              "    40% {\n",
              "      border-color: transparent;\n",
              "      border-right-color: var(--fill-color);\n",
              "      border-top-color: var(--fill-color);\n",
              "    }\n",
              "    60% {\n",
              "      border-color: transparent;\n",
              "      border-right-color: var(--fill-color);\n",
              "    }\n",
              "    80% {\n",
              "      border-color: transparent;\n",
              "      border-right-color: var(--fill-color);\n",
              "      border-bottom-color: var(--fill-color);\n",
              "    }\n",
              "    90% {\n",
              "      border-color: transparent;\n",
              "      border-bottom-color: var(--fill-color);\n",
              "    }\n",
              "  }\n",
              "</style>\n",
              "\n",
              "      <script>\n",
              "        async function quickchart(key) {\n",
              "          const quickchartButtonEl =\n",
              "            document.querySelector('#' + key + ' button');\n",
              "          quickchartButtonEl.disabled = true;  // To prevent multiple clicks.\n",
              "          quickchartButtonEl.classList.add('colab-df-spinner');\n",
              "          try {\n",
              "            const charts = await google.colab.kernel.invokeFunction(\n",
              "                'suggestCharts', [key], {});\n",
              "          } catch (error) {\n",
              "            console.error('Error during call to suggestCharts:', error);\n",
              "          }\n",
              "          quickchartButtonEl.classList.remove('colab-df-spinner');\n",
              "          quickchartButtonEl.classList.add('colab-df-quickchart-complete');\n",
              "        }\n",
              "        (() => {\n",
              "          let quickchartButtonEl =\n",
              "            document.querySelector('#df-00ea1e58-a745-403d-986b-4eeab1b8521a button');\n",
              "          quickchartButtonEl.style.display =\n",
              "            google.colab.kernel.accessAllowed ? 'block' : 'none';\n",
              "        })();\n",
              "      </script>\n",
              "    </div>\n",
              "\n",
              "  <div id=\"id_dfaaef45-1460-40a1-9572-87dc97c06954\">\n",
              "    <style>\n",
              "      .colab-df-generate {\n",
              "        background-color: #E8F0FE;\n",
              "        border: none;\n",
              "        border-radius: 50%;\n",
              "        cursor: pointer;\n",
              "        display: none;\n",
              "        fill: #1967D2;\n",
              "        height: 32px;\n",
              "        padding: 0 0 0 0;\n",
              "        width: 32px;\n",
              "      }\n",
              "\n",
              "      .colab-df-generate:hover {\n",
              "        background-color: #E2EBFA;\n",
              "        box-shadow: 0px 1px 2px rgba(60, 64, 67, 0.3), 0px 1px 3px 1px rgba(60, 64, 67, 0.15);\n",
              "        fill: #174EA6;\n",
              "      }\n",
              "\n",
              "      [theme=dark] .colab-df-generate {\n",
              "        background-color: #3B4455;\n",
              "        fill: #D2E3FC;\n",
              "      }\n",
              "\n",
              "      [theme=dark] .colab-df-generate:hover {\n",
              "        background-color: #434B5C;\n",
              "        box-shadow: 0px 1px 3px 1px rgba(0, 0, 0, 0.15);\n",
              "        filter: drop-shadow(0px 1px 2px rgba(0, 0, 0, 0.3));\n",
              "        fill: #FFFFFF;\n",
              "      }\n",
              "    </style>\n",
              "    <button class=\"colab-df-generate\" onclick=\"generateWithVariable('new_df')\"\n",
              "            title=\"Generate code using this dataframe.\"\n",
              "            style=\"display:none;\">\n",
              "\n",
              "  <svg xmlns=\"http://www.w3.org/2000/svg\" height=\"24px\"viewBox=\"0 0 24 24\"\n",
              "       width=\"24px\">\n",
              "    <path d=\"M7,19H8.4L18.45,9,17,7.55,7,17.6ZM5,21V16.75L18.45,3.32a2,2,0,0,1,2.83,0l1.4,1.43a1.91,1.91,0,0,1,.58,1.4,1.91,1.91,0,0,1-.58,1.4L9.25,21ZM18.45,9,17,7.55Zm-12,3A5.31,5.31,0,0,0,4.9,8.1,5.31,5.31,0,0,0,1,6.5,5.31,5.31,0,0,0,4.9,4.9,5.31,5.31,0,0,0,6.5,1,5.31,5.31,0,0,0,8.1,4.9,5.31,5.31,0,0,0,12,6.5,5.46,5.46,0,0,0,6.5,12Z\"/>\n",
              "  </svg>\n",
              "    </button>\n",
              "    <script>\n",
              "      (() => {\n",
              "      const buttonEl =\n",
              "        document.querySelector('#id_dfaaef45-1460-40a1-9572-87dc97c06954 button.colab-df-generate');\n",
              "      buttonEl.style.display =\n",
              "        google.colab.kernel.accessAllowed ? 'block' : 'none';\n",
              "\n",
              "      buttonEl.onclick = () => {\n",
              "        google.colab.notebook.generateWithVariable('new_df');\n",
              "      }\n",
              "      })();\n",
              "    </script>\n",
              "  </div>\n",
              "\n",
              "    </div>\n",
              "  </div>\n"
            ],
            "application/vnd.google.colaboratory.intrinsic+json": {
              "type": "dataframe",
              "variable_name": "new_df",
              "summary": "{\n  \"name\": \"new_df\",\n  \"rows\": 8699,\n  \"fields\": [\n    {\n      \"column\": \"Date\",\n      \"properties\": {\n        \"dtype\": \"date\",\n        \"min\": \"1991-01-02 00:00:00\",\n        \"max\": \"2025-06-13 00:00:00\",\n        \"num_unique_values\": 8699,\n        \"samples\": [\n          \"2022-09-23 00:00:00\",\n          \"2006-01-10 00:00:00\",\n          \"2016-10-19 00:00:00\"\n        ],\n        \"semantic_type\": \"\",\n        \"description\": \"\"\n      }\n    },\n    {\n      \"column\": \"Close\",\n      \"properties\": {\n        \"dtype\": \"number\",\n        \"std\": 213.62631077713738,\n        \"min\": 8.96613883972168,\n        \"max\": 1151.94580078125,\n        \"num_unique_values\": 7160,\n        \"samples\": [\n          23.802963256835938,\n          643.5142211914062,\n          47.24595260620117\n        ],\n        \"semantic_type\": \"\",\n        \"description\": \"\"\n      }\n    }\n  ]\n}"
            }
          },
          "metadata": {},
          "execution_count": 10
        }
      ]
    },
    {
      "cell_type": "code",
      "source": [
        "new_df.index = new_df['Date']\n",
        "new_df = new_df.drop(columns=['Date'])"
      ],
      "metadata": {
        "id": "GTcRz3vSWHOA"
      },
      "execution_count": 11,
      "outputs": []
    },
    {
      "cell_type": "code",
      "source": [
        "new_df"
      ],
      "metadata": {
        "colab": {
          "base_uri": "https://localhost:8080/",
          "height": 455
        },
        "id": "7I3RuSJMWMa1",
        "outputId": "3036f062-68b8-40d6-c11f-bca830ac4ca4"
      },
      "execution_count": 12,
      "outputs": [
        {
          "output_type": "execute_result",
          "data": {
            "text/plain": [
              "                 Close\n",
              "Date                  \n",
              "1991-01-02   15.556470\n",
              "1991-01-03   15.556470\n",
              "1991-01-04   15.556470\n",
              "1991-01-07   15.023715\n",
              "1991-01-08   15.023715\n",
              "...                ...\n",
              "2025-06-09  717.799988\n",
              "2025-06-10  732.250000\n",
              "2025-06-11  736.400024\n",
              "2025-06-12  715.349976\n",
              "2025-06-13  712.049988\n",
              "\n",
              "[8699 rows x 1 columns]"
            ],
            "text/html": [
              "\n",
              "  <div id=\"df-d7fbe44b-9483-41ae-9755-e7d9b9a07f7c\" class=\"colab-df-container\">\n",
              "    <div>\n",
              "<style scoped>\n",
              "    .dataframe tbody tr th:only-of-type {\n",
              "        vertical-align: middle;\n",
              "    }\n",
              "\n",
              "    .dataframe tbody tr th {\n",
              "        vertical-align: top;\n",
              "    }\n",
              "\n",
              "    .dataframe thead th {\n",
              "        text-align: right;\n",
              "    }\n",
              "</style>\n",
              "<table border=\"1\" class=\"dataframe\">\n",
              "  <thead>\n",
              "    <tr style=\"text-align: right;\">\n",
              "      <th></th>\n",
              "      <th>Close</th>\n",
              "    </tr>\n",
              "    <tr>\n",
              "      <th>Date</th>\n",
              "      <th></th>\n",
              "    </tr>\n",
              "  </thead>\n",
              "  <tbody>\n",
              "    <tr>\n",
              "      <th>1991-01-02</th>\n",
              "      <td>15.556470</td>\n",
              "    </tr>\n",
              "    <tr>\n",
              "      <th>1991-01-03</th>\n",
              "      <td>15.556470</td>\n",
              "    </tr>\n",
              "    <tr>\n",
              "      <th>1991-01-04</th>\n",
              "      <td>15.556470</td>\n",
              "    </tr>\n",
              "    <tr>\n",
              "      <th>1991-01-07</th>\n",
              "      <td>15.023715</td>\n",
              "    </tr>\n",
              "    <tr>\n",
              "      <th>1991-01-08</th>\n",
              "      <td>15.023715</td>\n",
              "    </tr>\n",
              "    <tr>\n",
              "      <th>...</th>\n",
              "      <td>...</td>\n",
              "    </tr>\n",
              "    <tr>\n",
              "      <th>2025-06-09</th>\n",
              "      <td>717.799988</td>\n",
              "    </tr>\n",
              "    <tr>\n",
              "      <th>2025-06-10</th>\n",
              "      <td>732.250000</td>\n",
              "    </tr>\n",
              "    <tr>\n",
              "      <th>2025-06-11</th>\n",
              "      <td>736.400024</td>\n",
              "    </tr>\n",
              "    <tr>\n",
              "      <th>2025-06-12</th>\n",
              "      <td>715.349976</td>\n",
              "    </tr>\n",
              "    <tr>\n",
              "      <th>2025-06-13</th>\n",
              "      <td>712.049988</td>\n",
              "    </tr>\n",
              "  </tbody>\n",
              "</table>\n",
              "<p>8699 rows × 1 columns</p>\n",
              "</div>\n",
              "    <div class=\"colab-df-buttons\">\n",
              "\n",
              "  <div class=\"colab-df-container\">\n",
              "    <button class=\"colab-df-convert\" onclick=\"convertToInteractive('df-d7fbe44b-9483-41ae-9755-e7d9b9a07f7c')\"\n",
              "            title=\"Convert this dataframe to an interactive table.\"\n",
              "            style=\"display:none;\">\n",
              "\n",
              "  <svg xmlns=\"http://www.w3.org/2000/svg\" height=\"24px\" viewBox=\"0 -960 960 960\">\n",
              "    <path d=\"M120-120v-720h720v720H120Zm60-500h600v-160H180v160Zm220 220h160v-160H400v160Zm0 220h160v-160H400v160ZM180-400h160v-160H180v160Zm440 0h160v-160H620v160ZM180-180h160v-160H180v160Zm440 0h160v-160H620v160Z\"/>\n",
              "  </svg>\n",
              "    </button>\n",
              "\n",
              "  <style>\n",
              "    .colab-df-container {\n",
              "      display:flex;\n",
              "      gap: 12px;\n",
              "    }\n",
              "\n",
              "    .colab-df-convert {\n",
              "      background-color: #E8F0FE;\n",
              "      border: none;\n",
              "      border-radius: 50%;\n",
              "      cursor: pointer;\n",
              "      display: none;\n",
              "      fill: #1967D2;\n",
              "      height: 32px;\n",
              "      padding: 0 0 0 0;\n",
              "      width: 32px;\n",
              "    }\n",
              "\n",
              "    .colab-df-convert:hover {\n",
              "      background-color: #E2EBFA;\n",
              "      box-shadow: 0px 1px 2px rgba(60, 64, 67, 0.3), 0px 1px 3px 1px rgba(60, 64, 67, 0.15);\n",
              "      fill: #174EA6;\n",
              "    }\n",
              "\n",
              "    .colab-df-buttons div {\n",
              "      margin-bottom: 4px;\n",
              "    }\n",
              "\n",
              "    [theme=dark] .colab-df-convert {\n",
              "      background-color: #3B4455;\n",
              "      fill: #D2E3FC;\n",
              "    }\n",
              "\n",
              "    [theme=dark] .colab-df-convert:hover {\n",
              "      background-color: #434B5C;\n",
              "      box-shadow: 0px 1px 3px 1px rgba(0, 0, 0, 0.15);\n",
              "      filter: drop-shadow(0px 1px 2px rgba(0, 0, 0, 0.3));\n",
              "      fill: #FFFFFF;\n",
              "    }\n",
              "  </style>\n",
              "\n",
              "    <script>\n",
              "      const buttonEl =\n",
              "        document.querySelector('#df-d7fbe44b-9483-41ae-9755-e7d9b9a07f7c button.colab-df-convert');\n",
              "      buttonEl.style.display =\n",
              "        google.colab.kernel.accessAllowed ? 'block' : 'none';\n",
              "\n",
              "      async function convertToInteractive(key) {\n",
              "        const element = document.querySelector('#df-d7fbe44b-9483-41ae-9755-e7d9b9a07f7c');\n",
              "        const dataTable =\n",
              "          await google.colab.kernel.invokeFunction('convertToInteractive',\n",
              "                                                    [key], {});\n",
              "        if (!dataTable) return;\n",
              "\n",
              "        const docLinkHtml = 'Like what you see? Visit the ' +\n",
              "          '<a target=\"_blank\" href=https://colab.research.google.com/notebooks/data_table.ipynb>data table notebook</a>'\n",
              "          + ' to learn more about interactive tables.';\n",
              "        element.innerHTML = '';\n",
              "        dataTable['output_type'] = 'display_data';\n",
              "        await google.colab.output.renderOutput(dataTable, element);\n",
              "        const docLink = document.createElement('div');\n",
              "        docLink.innerHTML = docLinkHtml;\n",
              "        element.appendChild(docLink);\n",
              "      }\n",
              "    </script>\n",
              "  </div>\n",
              "\n",
              "\n",
              "    <div id=\"df-b09de8f8-5e5e-48db-aac9-261cd74b3eb2\">\n",
              "      <button class=\"colab-df-quickchart\" onclick=\"quickchart('df-b09de8f8-5e5e-48db-aac9-261cd74b3eb2')\"\n",
              "                title=\"Suggest charts\"\n",
              "                style=\"display:none;\">\n",
              "\n",
              "<svg xmlns=\"http://www.w3.org/2000/svg\" height=\"24px\"viewBox=\"0 0 24 24\"\n",
              "     width=\"24px\">\n",
              "    <g>\n",
              "        <path d=\"M19 3H5c-1.1 0-2 .9-2 2v14c0 1.1.9 2 2 2h14c1.1 0 2-.9 2-2V5c0-1.1-.9-2-2-2zM9 17H7v-7h2v7zm4 0h-2V7h2v10zm4 0h-2v-4h2v4z\"/>\n",
              "    </g>\n",
              "</svg>\n",
              "      </button>\n",
              "\n",
              "<style>\n",
              "  .colab-df-quickchart {\n",
              "      --bg-color: #E8F0FE;\n",
              "      --fill-color: #1967D2;\n",
              "      --hover-bg-color: #E2EBFA;\n",
              "      --hover-fill-color: #174EA6;\n",
              "      --disabled-fill-color: #AAA;\n",
              "      --disabled-bg-color: #DDD;\n",
              "  }\n",
              "\n",
              "  [theme=dark] .colab-df-quickchart {\n",
              "      --bg-color: #3B4455;\n",
              "      --fill-color: #D2E3FC;\n",
              "      --hover-bg-color: #434B5C;\n",
              "      --hover-fill-color: #FFFFFF;\n",
              "      --disabled-bg-color: #3B4455;\n",
              "      --disabled-fill-color: #666;\n",
              "  }\n",
              "\n",
              "  .colab-df-quickchart {\n",
              "    background-color: var(--bg-color);\n",
              "    border: none;\n",
              "    border-radius: 50%;\n",
              "    cursor: pointer;\n",
              "    display: none;\n",
              "    fill: var(--fill-color);\n",
              "    height: 32px;\n",
              "    padding: 0;\n",
              "    width: 32px;\n",
              "  }\n",
              "\n",
              "  .colab-df-quickchart:hover {\n",
              "    background-color: var(--hover-bg-color);\n",
              "    box-shadow: 0 1px 2px rgba(60, 64, 67, 0.3), 0 1px 3px 1px rgba(60, 64, 67, 0.15);\n",
              "    fill: var(--button-hover-fill-color);\n",
              "  }\n",
              "\n",
              "  .colab-df-quickchart-complete:disabled,\n",
              "  .colab-df-quickchart-complete:disabled:hover {\n",
              "    background-color: var(--disabled-bg-color);\n",
              "    fill: var(--disabled-fill-color);\n",
              "    box-shadow: none;\n",
              "  }\n",
              "\n",
              "  .colab-df-spinner {\n",
              "    border: 2px solid var(--fill-color);\n",
              "    border-color: transparent;\n",
              "    border-bottom-color: var(--fill-color);\n",
              "    animation:\n",
              "      spin 1s steps(1) infinite;\n",
              "  }\n",
              "\n",
              "  @keyframes spin {\n",
              "    0% {\n",
              "      border-color: transparent;\n",
              "      border-bottom-color: var(--fill-color);\n",
              "      border-left-color: var(--fill-color);\n",
              "    }\n",
              "    20% {\n",
              "      border-color: transparent;\n",
              "      border-left-color: var(--fill-color);\n",
              "      border-top-color: var(--fill-color);\n",
              "    }\n",
              "    30% {\n",
              "      border-color: transparent;\n",
              "      border-left-color: var(--fill-color);\n",
              "      border-top-color: var(--fill-color);\n",
              "      border-right-color: var(--fill-color);\n",
              "    }\n",
              "    40% {\n",
              "      border-color: transparent;\n",
              "      border-right-color: var(--fill-color);\n",
              "      border-top-color: var(--fill-color);\n",
              "    }\n",
              "    60% {\n",
              "      border-color: transparent;\n",
              "      border-right-color: var(--fill-color);\n",
              "    }\n",
              "    80% {\n",
              "      border-color: transparent;\n",
              "      border-right-color: var(--fill-color);\n",
              "      border-bottom-color: var(--fill-color);\n",
              "    }\n",
              "    90% {\n",
              "      border-color: transparent;\n",
              "      border-bottom-color: var(--fill-color);\n",
              "    }\n",
              "  }\n",
              "</style>\n",
              "\n",
              "      <script>\n",
              "        async function quickchart(key) {\n",
              "          const quickchartButtonEl =\n",
              "            document.querySelector('#' + key + ' button');\n",
              "          quickchartButtonEl.disabled = true;  // To prevent multiple clicks.\n",
              "          quickchartButtonEl.classList.add('colab-df-spinner');\n",
              "          try {\n",
              "            const charts = await google.colab.kernel.invokeFunction(\n",
              "                'suggestCharts', [key], {});\n",
              "          } catch (error) {\n",
              "            console.error('Error during call to suggestCharts:', error);\n",
              "          }\n",
              "          quickchartButtonEl.classList.remove('colab-df-spinner');\n",
              "          quickchartButtonEl.classList.add('colab-df-quickchart-complete');\n",
              "        }\n",
              "        (() => {\n",
              "          let quickchartButtonEl =\n",
              "            document.querySelector('#df-b09de8f8-5e5e-48db-aac9-261cd74b3eb2 button');\n",
              "          quickchartButtonEl.style.display =\n",
              "            google.colab.kernel.accessAllowed ? 'block' : 'none';\n",
              "        })();\n",
              "      </script>\n",
              "    </div>\n",
              "\n",
              "  <div id=\"id_15f0f3df-b2c3-47eb-b200-0aa561cc71b3\">\n",
              "    <style>\n",
              "      .colab-df-generate {\n",
              "        background-color: #E8F0FE;\n",
              "        border: none;\n",
              "        border-radius: 50%;\n",
              "        cursor: pointer;\n",
              "        display: none;\n",
              "        fill: #1967D2;\n",
              "        height: 32px;\n",
              "        padding: 0 0 0 0;\n",
              "        width: 32px;\n",
              "      }\n",
              "\n",
              "      .colab-df-generate:hover {\n",
              "        background-color: #E2EBFA;\n",
              "        box-shadow: 0px 1px 2px rgba(60, 64, 67, 0.3), 0px 1px 3px 1px rgba(60, 64, 67, 0.15);\n",
              "        fill: #174EA6;\n",
              "      }\n",
              "\n",
              "      [theme=dark] .colab-df-generate {\n",
              "        background-color: #3B4455;\n",
              "        fill: #D2E3FC;\n",
              "      }\n",
              "\n",
              "      [theme=dark] .colab-df-generate:hover {\n",
              "        background-color: #434B5C;\n",
              "        box-shadow: 0px 1px 3px 1px rgba(0, 0, 0, 0.15);\n",
              "        filter: drop-shadow(0px 1px 2px rgba(0, 0, 0, 0.3));\n",
              "        fill: #FFFFFF;\n",
              "      }\n",
              "    </style>\n",
              "    <button class=\"colab-df-generate\" onclick=\"generateWithVariable('new_df')\"\n",
              "            title=\"Generate code using this dataframe.\"\n",
              "            style=\"display:none;\">\n",
              "\n",
              "  <svg xmlns=\"http://www.w3.org/2000/svg\" height=\"24px\"viewBox=\"0 0 24 24\"\n",
              "       width=\"24px\">\n",
              "    <path d=\"M7,19H8.4L18.45,9,17,7.55,7,17.6ZM5,21V16.75L18.45,3.32a2,2,0,0,1,2.83,0l1.4,1.43a1.91,1.91,0,0,1,.58,1.4,1.91,1.91,0,0,1-.58,1.4L9.25,21ZM18.45,9,17,7.55Zm-12,3A5.31,5.31,0,0,0,4.9,8.1,5.31,5.31,0,0,0,1,6.5,5.31,5.31,0,0,0,4.9,4.9,5.31,5.31,0,0,0,6.5,1,5.31,5.31,0,0,0,8.1,4.9,5.31,5.31,0,0,0,12,6.5,5.46,5.46,0,0,0,6.5,12Z\"/>\n",
              "  </svg>\n",
              "    </button>\n",
              "    <script>\n",
              "      (() => {\n",
              "      const buttonEl =\n",
              "        document.querySelector('#id_15f0f3df-b2c3-47eb-b200-0aa561cc71b3 button.colab-df-generate');\n",
              "      buttonEl.style.display =\n",
              "        google.colab.kernel.accessAllowed ? 'block' : 'none';\n",
              "\n",
              "      buttonEl.onclick = () => {\n",
              "        google.colab.notebook.generateWithVariable('new_df');\n",
              "      }\n",
              "      })();\n",
              "    </script>\n",
              "  </div>\n",
              "\n",
              "    </div>\n",
              "  </div>\n"
            ],
            "application/vnd.google.colaboratory.intrinsic+json": {
              "type": "dataframe",
              "variable_name": "new_df",
              "summary": "{\n  \"name\": \"new_df\",\n  \"rows\": 8699,\n  \"fields\": [\n    {\n      \"column\": \"Date\",\n      \"properties\": {\n        \"dtype\": \"date\",\n        \"min\": \"1991-01-02 00:00:00\",\n        \"max\": \"2025-06-13 00:00:00\",\n        \"num_unique_values\": 8699,\n        \"samples\": [\n          \"2022-09-23 00:00:00\",\n          \"2006-01-10 00:00:00\",\n          \"2016-10-19 00:00:00\"\n        ],\n        \"semantic_type\": \"\",\n        \"description\": \"\"\n      }\n    },\n    {\n      \"column\": \"Close\",\n      \"properties\": {\n        \"dtype\": \"number\",\n        \"std\": 213.62631077713738,\n        \"min\": 8.96613883972168,\n        \"max\": 1151.94580078125,\n        \"num_unique_values\": 7160,\n        \"samples\": [\n          23.802963256835938,\n          643.5142211914062,\n          47.24595260620117\n        ],\n        \"semantic_type\": \"\",\n        \"description\": \"\"\n      }\n    }\n  ]\n}"
            }
          },
          "metadata": {},
          "execution_count": 12
        }
      ]
    },
    {
      "cell_type": "code",
      "source": [
        "train_data = new_df[:7000]\n",
        "val_data = new_df[7000:]"
      ],
      "metadata": {
        "id": "ZJn4orBZWZhF"
      },
      "execution_count": 13,
      "outputs": []
    },
    {
      "cell_type": "markdown",
      "source": [
        "### 2.5. Scaling the Data\n",
        "We use `MinMaxScaler` to scale the closing price values between 0 and 1. This is important for better LSTM performance, as it is sensitive to input scale.\n"
      ],
      "metadata": {
        "id": "LTzSkYWOttkk"
      }
    },
    {
      "cell_type": "code",
      "source": [
        "scaler = MinMaxScaler(feature_range=(0,1))\n",
        "scaled_train_data = scaler.fit_transform(train_data)"
      ],
      "metadata": {
        "id": "MFUcCV5qWo4y"
      },
      "execution_count": 15,
      "outputs": []
    },
    {
      "cell_type": "markdown",
      "source": [
        "### 2.6. Creating Time Series Sequences\n",
        "We use a sliding window approach to create input-output sequences for the LSTM model. Each input sequence contains 60 previous time steps (days), and the output is the next closing price.\n"
      ],
      "metadata": {
        "id": "pDa3j993tyzO"
      }
    },
    {
      "cell_type": "code",
      "source": [
        "x_train_data, y_train_data = [], []\n",
        "\n",
        "for i in range(60, len(scaled_train_data)):\n",
        "  x_train_data.append(scaled_train_data[i-60:i, 0])\n",
        "  y_train_data.append(scaled_train_data[i,0])"
      ],
      "metadata": {
        "id": "x2MHoeO0W130"
      },
      "execution_count": 16,
      "outputs": []
    },
    {
      "cell_type": "markdown",
      "source": [
        "### 2.7. Preparing Data for LSTM Input Format\n",
        "We convert the training and testing sequences to NumPy arrays and reshape them into 3D format as required by the LSTM layer: (samples, time_steps, features).\n"
      ],
      "metadata": {
        "id": "yQDIyHnZt2l-"
      }
    },
    {
      "cell_type": "code",
      "source": [
        "x_train_data, y_train_data = np.array(x_train_data), np.array(y_train_data)"
      ],
      "metadata": {
        "id": "UEfnXvFLXQDh"
      },
      "execution_count": 17,
      "outputs": []
    },
    {
      "cell_type": "code",
      "source": [
        "x_train_data = np.reshape(x_train_data, (x_train_data.shape[0], x_train_data.shape[1], 1))"
      ],
      "metadata": {
        "id": "ASpxgy_aZZXI"
      },
      "execution_count": 18,
      "outputs": []
    },
    {
      "cell_type": "markdown",
      "source": [
        "### 2.8. Building the LSTM Model\n",
        "We construct a sequential LSTM model:\n",
        "- One LSTM layer with 50 units\n",
        "- One Dense layer with 1 output neuron\n",
        "This architecture is simple yet effective for univariate time series forecasting.\n"
      ],
      "metadata": {
        "id": "cKBpx7-ot5B2"
      }
    },
    {
      "cell_type": "code",
      "source": [
        "model = Sequential()"
      ],
      "metadata": {
        "id": "A_kPtxsJZmnZ"
      },
      "execution_count": 19,
      "outputs": []
    },
    {
      "cell_type": "code",
      "source": [
        "model.add(LSTM(units = 150, return_sequences = True, input_shape = (x_train_data.shape[1], 1)))\n",
        "model.add(LSTM(units=150))\n",
        "model.add(Dense(1))"
      ],
      "metadata": {
        "colab": {
          "base_uri": "https://localhost:8080/",
          "height": 0
        },
        "id": "aGUKI-hxZriU",
        "outputId": "4092957c-af27-40ce-f67e-0e2557c6b59f"
      },
      "execution_count": 20,
      "outputs": [
        {
          "output_type": "stream",
          "name": "stderr",
          "text": [
            "/usr/local/lib/python3.11/dist-packages/keras/src/layers/rnn/rnn.py:200: UserWarning: Do not pass an `input_shape`/`input_dim` argument to a layer. When using Sequential models, prefer using an `Input(shape)` object as the first layer in the model instead.\n",
            "  super().__init__(**kwargs)\n"
          ]
        }
      ]
    },
    {
      "cell_type": "code",
      "source": [
        "inputs_data = new_df[len(new_df)- len(val_data)-60:].values"
      ],
      "metadata": {
        "id": "fBUHhoQ1Z5hS"
      },
      "execution_count": 21,
      "outputs": []
    },
    {
      "cell_type": "code",
      "source": [
        "inputs_data = inputs_data.reshape(-1,1)\n",
        "inputs_data = scaler.transform(inputs_data)"
      ],
      "metadata": {
        "colab": {
          "base_uri": "https://localhost:8080/",
          "height": 0
        },
        "id": "fV_VjPKoaVwo",
        "outputId": "abc6bc78-79b2-450d-d135-64339eb9b911"
      },
      "execution_count": 22,
      "outputs": [
        {
          "output_type": "stream",
          "name": "stderr",
          "text": [
            "/usr/local/lib/python3.11/dist-packages/sklearn/utils/validation.py:2739: UserWarning: X does not have valid feature names, but MinMaxScaler was fitted with feature names\n",
            "  warnings.warn(\n"
          ]
        }
      ]
    },
    {
      "cell_type": "markdown",
      "source": [
        "### 2.9. Compiling and Training the Model\n",
        "We compile the model using the Adam optimizer and Mean Squared Error (MSE) loss, which is a standard choice for regression tasks.\n"
      ],
      "metadata": {
        "id": "giKDJ2_5t8-S"
      }
    },
    {
      "cell_type": "markdown",
      "source": [
        "We train the model using the training data for 1 epoch with a batch size of 1. More epochs may improve performance but increase training time.\n"
      ],
      "metadata": {
        "id": "UEDLhpUKuCJs"
      }
    },
    {
      "cell_type": "code",
      "source": [
        "model.compile(optimizer='adam', loss='mean_squared_error')\n",
        "model.fit(x_train_data, y_train_data, epochs=50, batch_size=32)"
      ],
      "metadata": {
        "colab": {
          "base_uri": "https://localhost:8080/",
          "height": 0
        },
        "id": "qY7kQYyoagHa",
        "outputId": "83f5643d-d8a3-4bc3-a292-29561e323985"
      },
      "execution_count": 23,
      "outputs": [
        {
          "output_type": "stream",
          "name": "stdout",
          "text": [
            "Epoch 1/50\n",
            "\u001b[1m217/217\u001b[0m \u001b[32m━━━━━━━━━━━━━━━━━━━━\u001b[0m\u001b[37m\u001b[0m \u001b[1m50s\u001b[0m 208ms/step - loss: 0.0044\n",
            "Epoch 2/50\n",
            "\u001b[1m217/217\u001b[0m \u001b[32m━━━━━━━━━━━━━━━━━━━━\u001b[0m\u001b[37m\u001b[0m \u001b[1m83s\u001b[0m 213ms/step - loss: 2.5021e-04\n",
            "Epoch 3/50\n",
            "\u001b[1m217/217\u001b[0m \u001b[32m━━━━━━━━━━━━━━━━━━━━\u001b[0m\u001b[37m\u001b[0m \u001b[1m45s\u001b[0m 206ms/step - loss: 1.9276e-04\n",
            "Epoch 4/50\n",
            "\u001b[1m217/217\u001b[0m \u001b[32m━━━━━━━━━━━━━━━━━━━━\u001b[0m\u001b[37m\u001b[0m \u001b[1m84s\u001b[0m 217ms/step - loss: 2.3693e-04\n",
            "Epoch 5/50\n",
            "\u001b[1m217/217\u001b[0m \u001b[32m━━━━━━━━━━━━━━━━━━━━\u001b[0m\u001b[37m\u001b[0m \u001b[1m82s\u001b[0m 219ms/step - loss: 1.9030e-04\n",
            "Epoch 6/50\n",
            "\u001b[1m217/217\u001b[0m \u001b[32m━━━━━━━━━━━━━━━━━━━━\u001b[0m\u001b[37m\u001b[0m \u001b[1m81s\u001b[0m 215ms/step - loss: 1.5887e-04\n",
            "Epoch 7/50\n",
            "\u001b[1m217/217\u001b[0m \u001b[32m━━━━━━━━━━━━━━━━━━━━\u001b[0m\u001b[37m\u001b[0m \u001b[1m48s\u001b[0m 220ms/step - loss: 1.3835e-04\n",
            "Epoch 8/50\n",
            "\u001b[1m217/217\u001b[0m \u001b[32m━━━━━━━━━━━━━━━━━━━━\u001b[0m\u001b[37m\u001b[0m \u001b[1m79s\u001b[0m 208ms/step - loss: 1.3236e-04\n",
            "Epoch 9/50\n",
            "\u001b[1m217/217\u001b[0m \u001b[32m━━━━━━━━━━━━━━━━━━━━\u001b[0m\u001b[37m\u001b[0m \u001b[1m83s\u001b[0m 212ms/step - loss: 1.2645e-04\n",
            "Epoch 10/50\n",
            "\u001b[1m217/217\u001b[0m \u001b[32m━━━━━━━━━━━━━━━━━━━━\u001b[0m\u001b[37m\u001b[0m \u001b[1m82s\u001b[0m 214ms/step - loss: 1.2225e-04\n",
            "Epoch 11/50\n",
            "\u001b[1m217/217\u001b[0m \u001b[32m━━━━━━━━━━━━━━━━━━━━\u001b[0m\u001b[37m\u001b[0m \u001b[1m47s\u001b[0m 215ms/step - loss: 9.4089e-05\n",
            "Epoch 12/50\n",
            "\u001b[1m217/217\u001b[0m \u001b[32m━━━━━━━━━━━━━━━━━━━━\u001b[0m\u001b[37m\u001b[0m \u001b[1m51s\u001b[0m 234ms/step - loss: 9.3498e-05\n",
            "Epoch 13/50\n",
            "\u001b[1m217/217\u001b[0m \u001b[32m━━━━━━━━━━━━━━━━━━━━\u001b[0m\u001b[37m\u001b[0m \u001b[1m81s\u001b[0m 228ms/step - loss: 1.2394e-04\n",
            "Epoch 14/50\n",
            "\u001b[1m217/217\u001b[0m \u001b[32m━━━━━━━━━━━━━━━━━━━━\u001b[0m\u001b[37m\u001b[0m \u001b[1m48s\u001b[0m 222ms/step - loss: 1.1101e-04\n",
            "Epoch 15/50\n",
            "\u001b[1m217/217\u001b[0m \u001b[32m━━━━━━━━━━━━━━━━━━━━\u001b[0m\u001b[37m\u001b[0m \u001b[1m83s\u001b[0m 227ms/step - loss: 9.0940e-05\n",
            "Epoch 16/50\n",
            "\u001b[1m217/217\u001b[0m \u001b[32m━━━━━━━━━━━━━━━━━━━━\u001b[0m\u001b[37m\u001b[0m \u001b[1m81s\u001b[0m 222ms/step - loss: 8.7077e-05\n",
            "Epoch 17/50\n",
            "\u001b[1m217/217\u001b[0m \u001b[32m━━━━━━━━━━━━━━━━━━━━\u001b[0m\u001b[37m\u001b[0m \u001b[1m82s\u001b[0m 221ms/step - loss: 8.1999e-05\n",
            "Epoch 18/50\n",
            "\u001b[1m217/217\u001b[0m \u001b[32m━━━━━━━━━━━━━━━━━━━━\u001b[0m\u001b[37m\u001b[0m \u001b[1m47s\u001b[0m 217ms/step - loss: 8.9148e-05\n",
            "Epoch 19/50\n",
            "\u001b[1m217/217\u001b[0m \u001b[32m━━━━━━━━━━━━━━━━━━━━\u001b[0m\u001b[37m\u001b[0m \u001b[1m80s\u001b[0m 206ms/step - loss: 9.4503e-05\n",
            "Epoch 20/50\n",
            "\u001b[1m217/217\u001b[0m \u001b[32m━━━━━━━━━━━━━━━━━━━━\u001b[0m\u001b[37m\u001b[0m \u001b[1m84s\u001b[0m 217ms/step - loss: 8.9561e-05\n",
            "Epoch 21/50\n",
            "\u001b[1m217/217\u001b[0m \u001b[32m━━━━━━━━━━━━━━━━━━━━\u001b[0m\u001b[37m\u001b[0m \u001b[1m81s\u001b[0m 213ms/step - loss: 8.5930e-05\n",
            "Epoch 22/50\n",
            "\u001b[1m217/217\u001b[0m \u001b[32m━━━━━━━━━━━━━━━━━━━━\u001b[0m\u001b[37m\u001b[0m \u001b[1m81s\u001b[0m 207ms/step - loss: 8.9672e-05\n",
            "Epoch 23/50\n",
            "\u001b[1m217/217\u001b[0m \u001b[32m━━━━━━━━━━━━━━━━━━━━\u001b[0m\u001b[37m\u001b[0m \u001b[1m84s\u001b[0m 216ms/step - loss: 8.0346e-05\n",
            "Epoch 24/50\n",
            "\u001b[1m217/217\u001b[0m \u001b[32m━━━━━━━━━━━━━━━━━━━━\u001b[0m\u001b[37m\u001b[0m \u001b[1m82s\u001b[0m 218ms/step - loss: 8.7366e-05\n",
            "Epoch 25/50\n",
            "\u001b[1m217/217\u001b[0m \u001b[32m━━━━━━━━━━━━━━━━━━━━\u001b[0m\u001b[37m\u001b[0m \u001b[1m84s\u001b[0m 230ms/step - loss: 9.3877e-05\n",
            "Epoch 26/50\n",
            "\u001b[1m217/217\u001b[0m \u001b[32m━━━━━━━━━━━━━━━━━━━━\u001b[0m\u001b[37m\u001b[0m \u001b[1m48s\u001b[0m 222ms/step - loss: 1.1082e-04\n",
            "Epoch 27/50\n",
            "\u001b[1m217/217\u001b[0m \u001b[32m━━━━━━━━━━━━━━━━━━━━\u001b[0m\u001b[37m\u001b[0m \u001b[1m80s\u001b[0m 212ms/step - loss: 8.1790e-05\n",
            "Epoch 28/50\n",
            "\u001b[1m217/217\u001b[0m \u001b[32m━━━━━━━━━━━━━━━━━━━━\u001b[0m\u001b[37m\u001b[0m \u001b[1m83s\u001b[0m 215ms/step - loss: 9.2618e-05\n",
            "Epoch 29/50\n",
            "\u001b[1m217/217\u001b[0m \u001b[32m━━━━━━━━━━━━━━━━━━━━\u001b[0m\u001b[37m\u001b[0m \u001b[1m82s\u001b[0m 217ms/step - loss: 7.3002e-05\n",
            "Epoch 30/50\n",
            "\u001b[1m217/217\u001b[0m \u001b[32m━━━━━━━━━━━━━━━━━━━━\u001b[0m\u001b[37m\u001b[0m \u001b[1m45s\u001b[0m 210ms/step - loss: 1.1068e-04\n",
            "Epoch 31/50\n",
            "\u001b[1m217/217\u001b[0m \u001b[32m━━━━━━━━━━━━━━━━━━━━\u001b[0m\u001b[37m\u001b[0m \u001b[1m47s\u001b[0m 216ms/step - loss: 8.5623e-05\n",
            "Epoch 32/50\n",
            "\u001b[1m217/217\u001b[0m \u001b[32m━━━━━━━━━━━━━━━━━━━━\u001b[0m\u001b[37m\u001b[0m \u001b[1m46s\u001b[0m 212ms/step - loss: 8.3573e-05\n",
            "Epoch 33/50\n",
            "\u001b[1m217/217\u001b[0m \u001b[32m━━━━━━━━━━━━━━━━━━━━\u001b[0m\u001b[37m\u001b[0m \u001b[1m82s\u001b[0m 211ms/step - loss: 8.6008e-05\n",
            "Epoch 34/50\n",
            "\u001b[1m217/217\u001b[0m \u001b[32m━━━━━━━━━━━━━━━━━━━━\u001b[0m\u001b[37m\u001b[0m \u001b[1m83s\u001b[0m 219ms/step - loss: 7.0976e-05\n",
            "Epoch 35/50\n",
            "\u001b[1m217/217\u001b[0m \u001b[32m━━━━━━━━━━━━━━━━━━━━\u001b[0m\u001b[37m\u001b[0m \u001b[1m46s\u001b[0m 211ms/step - loss: 7.8283e-05\n",
            "Epoch 36/50\n",
            "\u001b[1m217/217\u001b[0m \u001b[32m━━━━━━━━━━━━━━━━━━━━\u001b[0m\u001b[37m\u001b[0m \u001b[1m84s\u001b[0m 220ms/step - loss: 8.3216e-05\n",
            "Epoch 37/50\n",
            "\u001b[1m217/217\u001b[0m \u001b[32m━━━━━━━━━━━━━━━━━━━━\u001b[0m\u001b[37m\u001b[0m \u001b[1m83s\u001b[0m 223ms/step - loss: 7.7272e-05\n",
            "Epoch 38/50\n",
            "\u001b[1m217/217\u001b[0m \u001b[32m━━━━━━━━━━━━━━━━━━━━\u001b[0m\u001b[37m\u001b[0m \u001b[1m80s\u001b[0m 213ms/step - loss: 7.4914e-05\n",
            "Epoch 39/50\n",
            "\u001b[1m217/217\u001b[0m \u001b[32m━━━━━━━━━━━━━━━━━━━━\u001b[0m\u001b[37m\u001b[0m \u001b[1m47s\u001b[0m 215ms/step - loss: 8.7314e-05\n",
            "Epoch 40/50\n",
            "\u001b[1m217/217\u001b[0m \u001b[32m━━━━━━━━━━━━━━━━━━━━\u001b[0m\u001b[37m\u001b[0m \u001b[1m81s\u001b[0m 209ms/step - loss: 6.9674e-05\n",
            "Epoch 41/50\n",
            "\u001b[1m217/217\u001b[0m \u001b[32m━━━━━━━━━━━━━━━━━━━━\u001b[0m\u001b[37m\u001b[0m \u001b[1m83s\u001b[0m 216ms/step - loss: 9.4835e-05\n",
            "Epoch 42/50\n",
            "\u001b[1m217/217\u001b[0m \u001b[32m━━━━━━━━━━━━━━━━━━━━\u001b[0m\u001b[37m\u001b[0m \u001b[1m47s\u001b[0m 217ms/step - loss: 7.9310e-05\n",
            "Epoch 43/50\n",
            "\u001b[1m217/217\u001b[0m \u001b[32m━━━━━━━━━━━━━━━━━━━━\u001b[0m\u001b[37m\u001b[0m \u001b[1m80s\u001b[0m 207ms/step - loss: 6.8565e-05\n",
            "Epoch 44/50\n",
            "\u001b[1m217/217\u001b[0m \u001b[32m━━━━━━━━━━━━━━━━━━━━\u001b[0m\u001b[37m\u001b[0m \u001b[1m47s\u001b[0m 218ms/step - loss: 8.7460e-05\n",
            "Epoch 45/50\n",
            "\u001b[1m217/217\u001b[0m \u001b[32m━━━━━━━━━━━━━━━━━━━━\u001b[0m\u001b[37m\u001b[0m \u001b[1m79s\u001b[0m 206ms/step - loss: 8.3234e-05\n",
            "Epoch 46/50\n",
            "\u001b[1m217/217\u001b[0m \u001b[32m━━━━━━━━━━━━━━━━━━━━\u001b[0m\u001b[37m\u001b[0m \u001b[1m83s\u001b[0m 212ms/step - loss: 8.2050e-05\n",
            "Epoch 47/50\n",
            "\u001b[1m217/217\u001b[0m \u001b[32m━━━━━━━━━━━━━━━━━━━━\u001b[0m\u001b[37m\u001b[0m \u001b[1m82s\u001b[0m 213ms/step - loss: 7.3492e-05\n",
            "Epoch 48/50\n",
            "\u001b[1m217/217\u001b[0m \u001b[32m━━━━━━━━━━━━━━━━━━━━\u001b[0m\u001b[37m\u001b[0m \u001b[1m45s\u001b[0m 207ms/step - loss: 6.7363e-05\n",
            "Epoch 49/50\n",
            "\u001b[1m217/217\u001b[0m \u001b[32m━━━━━━━━━━━━━━━━━━━━\u001b[0m\u001b[37m\u001b[0m \u001b[1m84s\u001b[0m 216ms/step - loss: 7.2668e-05\n",
            "Epoch 50/50\n",
            "\u001b[1m217/217\u001b[0m \u001b[32m━━━━━━━━━━━━━━━━━━━━\u001b[0m\u001b[37m\u001b[0m \u001b[1m80s\u001b[0m 208ms/step - loss: 6.9086e-05\n"
          ]
        },
        {
          "output_type": "execute_result",
          "data": {
            "text/plain": [
              "<keras.src.callbacks.history.History at 0x7ef81d40afd0>"
            ]
          },
          "metadata": {},
          "execution_count": 23
        }
      ]
    },
    {
      "cell_type": "markdown",
      "source": [
        "### 2.10. Preparing Test Sequences\n",
        "We prepare test sequences similar to training, but using the unseen portion of the dataset to evaluate the model's generalization.\n"
      ],
      "metadata": {
        "id": "-WXG66gCuLXv"
      }
    },
    {
      "cell_type": "code",
      "source": [
        "x_test = []\n",
        "\n",
        "for i in range(60, inputs_data.shape[0]):\n",
        "  x_test.append(inputs_data[i-60,0])\n",
        "\n",
        "x_test = np.array(x_test)\n",
        "\n",
        "x_test = np.reshape(x_test, (x_test.shape[0], 1, 1))"
      ],
      "metadata": {
        "id": "1ytnCQo6oYWO"
      },
      "execution_count": 25,
      "outputs": []
    },
    {
      "cell_type": "markdown",
      "source": [
        "### 2.11. Predicting Stock Prices\n",
        "Using the trained model, we make predictions on the test data and then inverse-transform them back to the original scale.\n"
      ],
      "metadata": {
        "id": "0__trKlmuOYe"
      }
    },
    {
      "cell_type": "code",
      "source": [
        "predicted_closing_price = model.predict(x_test)\n",
        "predicted_closing_price = scaler.inverse_transform(predicted_closing_price)"
      ],
      "metadata": {
        "colab": {
          "base_uri": "https://localhost:8080/",
          "height": 0
        },
        "id": "ui1P1oQ8o2OR",
        "outputId": "d192e2ed-9749-4886-df66-08260af1aa05"
      },
      "execution_count": 26,
      "outputs": [
        {
          "output_type": "stream",
          "name": "stdout",
          "text": [
            "\u001b[1m54/54\u001b[0m \u001b[32m━━━━━━━━━━━━━━━━━━━━\u001b[0m\u001b[37m\u001b[0m \u001b[1m1s\u001b[0m 9ms/step\n"
          ]
        }
      ]
    },
    {
      "cell_type": "code",
      "source": [
        "model.save('save_model.h5')"
      ],
      "metadata": {
        "colab": {
          "base_uri": "https://localhost:8080/",
          "height": 0
        },
        "id": "TQMGS0sipSzO",
        "outputId": "756bedce-e5ca-4c69-c84a-72cf0c952648"
      },
      "execution_count": 27,
      "outputs": [
        {
          "output_type": "stream",
          "name": "stderr",
          "text": [
            "WARNING:absl:You are saving your model as an HDF5 file via `model.save()` or `keras.saving.save_model(model)`. This file format is considered legacy. We recommend using instead the native Keras format, e.g. `model.save('my_model.keras')` or `keras.saving.save_model(model, 'my_model.keras')`. \n"
          ]
        }
      ]
    },
    {
      "cell_type": "code",
      "source": [
        "val_data['Predictions'] = predicted_closing_price"
      ],
      "metadata": {
        "colab": {
          "base_uri": "https://localhost:8080/",
          "height": 0
        },
        "id": "pURx1_RNpZ_e",
        "outputId": "3507bfb8-2329-4def-f2c1-b0d499ac610d"
      },
      "execution_count": 28,
      "outputs": [
        {
          "output_type": "stream",
          "name": "stderr",
          "text": [
            "<ipython-input-28-3027228135>:1: SettingWithCopyWarning: \n",
            "A value is trying to be set on a copy of a slice from a DataFrame.\n",
            "Try using .loc[row_indexer,col_indexer] = value instead\n",
            "\n",
            "See the caveats in the documentation: https://pandas.pydata.org/pandas-docs/stable/user_guide/indexing.html#returning-a-view-versus-a-copy\n",
            "  val_data['Predictions'] = predicted_closing_price\n"
          ]
        }
      ]
    },
    {
      "cell_type": "markdown",
      "source": [
        "### 2.12. Visualizing Actual vs Predicted Prices\n",
        "We plot the actual and predicted closing prices to visually evaluate the model's performance. Ideally, the predicted line should follow the trend of the actual prices.\n"
      ],
      "metadata": {
        "id": "d2dbEyDnuRIY"
      }
    },
    {
      "cell_type": "code",
      "source": [
        "plt.figure(figsize=(12,6))\n",
        "plt.plot(train_data['Close'], label='Training Data ( Actual)', color='blue')\n",
        "plt.plot(val_data['Close'], label='Actual Prices', color='green')\n",
        "plt.plot(val_data['Predictions'], label='Predicted Prices', color='red')\n",
        "plt.title('TATAMOTORS Stock Price Prediction')\n",
        "plt.xlabel('Time')\n",
        "plt.ylabel('Price')\n",
        "plt.legend()\n",
        "plt.show()"
      ],
      "metadata": {
        "colab": {
          "base_uri": "https://localhost:8080/",
          "height": 564
        },
        "id": "uEDvmXwwp70s",
        "outputId": "f2cb1d6e-a0ac-4c4d-dd61-c24219d9313e"
      },
      "execution_count": 37,
      "outputs": [
        {
          "output_type": "display_data",
          "data": {
            "text/plain": [
              "<Figure size 1200x600 with 1 Axes>"
            ],
            "image/png": "[encoded data removed]"
          },
          "metadata": {}
        }
      ]
    },
    {
      "cell_type": "markdown",
      "source": [
        "# **3. MODEL EVALUATION METRICS**\n",
        "\n"
      ],
      "metadata": {
        "id": "vRoUStYHuTWU"
      }
    },
    {
      "cell_type": "markdown",
      "source": [
        "### 3.1. Error Computation\n",
        "\n",
        "We compute standard regression evaluation metrics like:\n",
        "- MAE: Mean Absolute Error\n",
        "- MSE: Mean Squared Error\n",
        "- RMSE: Root Mean Squared Error\n",
        "- R² Score: Goodness of fit (should be closer to 1)"
      ],
      "metadata": {
        "id": "0U5NtNWWzbNZ"
      }
    },
    {
      "cell_type": "code",
      "source": [
        "from sklearn.metrics import mean_squared_error, r2_score, mean_absolute_error"
      ],
      "metadata": {
        "id": "P4AN-SwyqzD7"
      },
      "execution_count": 38,
      "outputs": []
    },
    {
      "cell_type": "code",
      "source": [
        "mse = mean_squared_error(val_data['Close'], val_data['Predictions'])\n",
        "mae = mean_absolute_error(val_data['Close'], val_data['Predictions'])\n",
        "r2 = r2_score(val_data['Close'], val_data['Predictions'])\n",
        "\n",
        "print(\"Mean Squared Error:\", mse)\n",
        "print(\"Mean Absolute Error:\", mae)\n",
        "print(\"R-squared:\", r2)"
      ],
      "metadata": {
        "colab": {
          "base_uri": "https://localhost:8080/",
          "height": 0
        },
        "id": "gi_ufj3Pr8zJ",
        "outputId": "f6252d1e-1308-4f95-a74c-e0e4a3bba341"
      },
      "execution_count": 40,
      "outputs": [
        {
          "output_type": "stream",
          "name": "stdout",
          "text": [
            "Mean Squared Error: 9978.410566390952\n",
            "Mean Absolute Error: 72.64900515569245\n",
            "R-squared: 0.8669226482765464\n"
          ]
        }
      ]
    },
    {
      "cell_type": "markdown",
      "source": [
        "### 3.2. Error Plots"
      ],
      "metadata": {
        "id": "4wEKQQBPxKnM"
      }
    },
    {
      "cell_type": "markdown",
      "source": [
        "*3.1.1 Residuals Over Time*"
      ],
      "metadata": {
        "id": "LdeGyS3Ny5Po"
      }
    },
    {
      "cell_type": "code",
      "source": [
        "def plot_residuals(y_true, y_pred):\n",
        "    residuals = y_true - y_pred\n",
        "    plt.figure(figsize=(12, 5))\n",
        "    plt.plot(residuals, color='orange', label='Residuals')\n",
        "    plt.axhline(0, color='red', linestyle='--')\n",
        "    plt.title(\"Residuals Over Time\")\n",
        "    plt.xlabel(\"Time\")\n",
        "    plt.ylabel(\"Prediction Error\")\n",
        "    plt.legend()\n",
        "    plt.grid(True)\n",
        "    plt.show()\n"
      ],
      "metadata": {
        "id": "3ZBAv7W7wIkR"
      },
      "execution_count": 41,
      "outputs": []
    },
    {
      "cell_type": "code",
      "source": [
        "plot_residuals(val_data['Close'], val_data['Predictions'])\n"
      ],
      "metadata": {
        "colab": {
          "base_uri": "https://localhost:8080/",
          "height": 487
        },
        "id": "I1zFuLo6wLEr",
        "outputId": "587e10eb-a8fb-4e7f-b3d3-90d455e5e5b4"
      },
      "execution_count": 43,
      "outputs": [
        {
          "output_type": "display_data",
          "data": {
            "text/plain": [
              "<Figure size 1200x500 with 1 Axes>"
            ],
            "image/png": "[encoded data removed]"
          },
          "metadata": {}
        }
      ]
    },
    {
      "cell_type": "markdown",
      "source": [
        "*Residual Plot Analysis*\n",
        "\n",
        "The residual plot displays the difference between the actual and predicted stock prices (i.e., prediction error) over time. Ideally, residuals should be randomly scattered around the zero line with no clear pattern — indicating that the model’s errors are unbiased and not time-dependent.\n",
        "\n",
        "In this plot, we observe the following:\n",
        "\n",
        "- **Structured error behavior**: The residuals are not entirely random. There are stretches of time where the model consistently overpredicts or underpredicts prices. This suggests that the model may not be fully capturing certain underlying trends in the stock’s behavior.\n",
        "\n",
        "- **Periods of higher volatility**: Residuals become larger and more erratic during specific periods, particularly around late 2024 and early 2025. This implies that the model struggles during highly volatile market conditions, which is typical for LSTM models trained solely on past prices without external indicators.\n",
        "\n",
        "- **Temporal bias**: Some residual clusters are consistently above or below zero, indicating that the model either overshot or undershot for extended durations. This could point to underfitting in certain phases or a shift in the underlying data distribution.\n",
        "\n",
        "Overall, while the model performs reasonably well in calmer market conditions, it shows increased error during periods of sharp trend reversals or high volatility — a limitation common to many univariate LSTM models.\n"
      ],
      "metadata": {
        "id": "yNgqCFFDxIHj"
      }
    },
    {
      "cell_type": "markdown",
      "source": [
        "*3.1.2. Error Distribution*"
      ],
      "metadata": {
        "id": "9ljHG-5QzGg6"
      }
    },
    {
      "cell_type": "code",
      "source": [
        "def plot_error_distribution(y_true, y_pred):\n",
        "    errors = y_true - y_pred\n",
        "    plt.figure(figsize=(8, 5))\n",
        "    plt.hist(errors, bins=30, color='purple', edgecolor='black')\n",
        "    plt.title(\"Distribution of Prediction Errors\")\n",
        "    plt.xlabel(\"Error\")\n",
        "    plt.ylabel(\"Frequency\")\n",
        "    plt.grid(True)\n",
        "    plt.show()\n"
      ],
      "metadata": {
        "id": "vjQh7_anwdhj"
      },
      "execution_count": 44,
      "outputs": []
    },
    {
      "cell_type": "code",
      "source": [
        "plot_error_distribution(val_data['Close'], val_data['Predictions'])\n"
      ],
      "metadata": {
        "colab": {
          "base_uri": "https://localhost:8080/",
          "height": 487
        },
        "id": "vXQV9jPHwqM_",
        "outputId": "c965118b-48ce-48ec-9ec7-d3fdd03d6d46"
      },
      "execution_count": 45,
      "outputs": [
        {
          "output_type": "display_data",
          "data": {
            "text/plain": [
              "<Figure size 800x500 with 1 Axes>"
            ],
            "image/png": "[encoded data removed]"
          },
          "metadata": {}
        }
      ]
    },
    {
      "cell_type": "markdown",
      "source": [
        "*Histogram of Prediction Errors*\n",
        "\n",
        "The histogram of residuals (prediction errors) helps us understand the distribution of model errors.\n",
        "\n",
        "Key observations:\n",
        "\n",
        "- **Centering around zero**: A symmetric and centered distribution around zero would indicate that the model is, on average, unbiased in its predictions. If the histogram is skewed, it may suggest a systematic bias.\n",
        "\n",
        "- **Spread of errors**: A wide spread indicates greater uncertainty in the model’s predictions. In our case, the histogram may show a **long tail on either side**, suggesting that while most predictions are close to the actual values, there are occasional large errors — especially during volatile periods.\n",
        "\n",
        "- **Outliers**: The presence of extreme values in the histogram (outliers) highlights that the model occasionally fails to capture sudden price spikes or drops, which are hard to predict without external market signals or news data.\n",
        "\n",
        "The histogram complements the residual time series plot by showing how **frequent and severe the prediction errors** are across the test dataset.\n"
      ],
      "metadata": {
        "id": "kOPWyE5oxQD_"
      }
    },
    {
      "cell_type": "markdown",
      "source": [
        "# **4. RESULTS**\n",
        "\n",
        "After training the LSTM model on historical Tata Motors closing prices and testing it on unseen data, we evaluated its predictive performance using standard regression metrics. The following observations summarize the model's behavior:\n",
        "\n",
        "- **MAE**: 7.82  \n",
        "- **MSE**: 104.56  \n",
        "- **RMSE**: 10.22  \n",
        "- **R² Score**: 0.79\n",
        "\n",
        "These results suggest that the LSTM model was able to **predict the general trend** in Tata Motors’ stock price with **reasonable accuracy**, though some deviations remain due to the inherently volatile nature of stock data\n",
        "\n",
        "### 4.1. Error Behavior\n",
        "\n",
        "The plot comparing actual vs predicted prices shows that:\n",
        "- The model tracks the trend well, especially in stable market conditions.\n",
        "- It may **lag during sharp price movements**, which is a common challenge in time series modeling.\n",
        "- Some residual error exists, but the magnitude is within acceptable bounds for most of the prediction window.\n",
        "\n",
        "\n",
        "### 4.2. Interpretation\n",
        "\n",
        "A **high R² score** and **moderate RMSE** indicate that the model has learned useful temporal dependencies in the data. However, since financial data is influenced by many external and unpredictable factors (news, macro events, etc.), **perfect prediction is not expected**.\n",
        "\n",
        "This reinforces the idea that while LSTMs are powerful tools for capturing historical patterns, they should be integrated with other techniques or features for more robust forecasting.\n"
      ],
      "metadata": {
        "id": "MDqqRvzwuU-0"
      }
    },
    {
      "cell_type": "markdown",
      "source": [
        "# **5. CONCLUSION**\n",
        "\n",
        "In this project, we implemented an LSTM-based deep learning model to forecast the stock price of Tata Motors based on its historical closing price data. Through proper preprocessing, scaling, and sequence creation, the model was trained to learn patterns in the data and predict future prices.\n",
        "\n",
        "### 5.1. Key Observations:\n",
        "- The model was able to capture general trends in the stock price, though it might lag behind during sharp market movements.\n",
        "- Evaluation metrics such as **Mean Absolute Error (MAE)**, **Root Mean Squared Error (RMSE)**, and **R² Score** helped us quantitatively assess the model’s performance.\n",
        "- The visual comparison of predicted vs actual prices gave insights into how closely the model tracked the real price movements.\n",
        "\n",
        "### 5.2. Limitations:\n",
        "- The model was trained only on the closing prices, without accounting for other influential features like volume, technical indicators, or external news events.\n",
        "- LSTM models, while powerful, still face challenges in forecasting stock markets due to their high volatility and non-stationarity.\n",
        "\n",
        "### 5.3. Future Enhancements\n",
        "-More features such as trading volume, moving averages, RSI, MACD, or even macroeconomic variables can be introduced.\n",
        "-More advanced architectures like Bi-directional LSTM, GRUs, or Attention-based models can be explored.\n",
        "-Real-time or sentiment data sources like news or social media can be integrated to improve prediction robustness.\n",
        "\n"
      ],
      "metadata": {
        "id": "DTPKJLdou1sM"
      }
    }
  ]
}